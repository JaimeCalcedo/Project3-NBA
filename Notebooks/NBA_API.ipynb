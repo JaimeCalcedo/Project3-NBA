{
 "cells": [
  {
   "cell_type": "code",
   "execution_count": 36,
   "metadata": {},
   "outputs": [],
   "source": [
    "import requests\n",
    "import pandas as pd"
   ]
  },
  {
   "cell_type": "code",
   "execution_count": 1,
   "metadata": {},
   "outputs": [],
   "source": [
    "url = \"https://stats.nba.com/stats/playercareerstats\""
   ]
  },
  {
   "cell_type": "code",
   "execution_count": 43,
   "metadata": {},
   "outputs": [
    {
     "name": "stdout",
     "output_type": "stream",
     "text": [
      "[{\"player_id\": 1449, \"season_id\": \"1982-83\", \"league_id\": \"00\", \"team_id\": 1610612738, \"team_abbreviation\": \"BOS\", \"player_age\": 26.0, \"gp\": 6, \"gs\": 6, \"min\": 36.0, \"fgm\": 49, \"fga\": 116, \"fg_pct\": 0.422, \"fg3m\": 1, \"fg3a\": 4, \"fg3_pct\": 0.25, \"ftm\": 24, \"fta\": 29, \"ft_pct\": 0.828, \"oreb\": 20, \"dreb\": 55, \"reb\": 75, \"ast\": 41, \"stl\": 13, \"blk\": 3, \"tov\": 19, \"pf\": 15, \"pts\": 123}, {\"player_id\": 1449, \"season_id\": \"1983-84\", \"league_id\": \"00\", \"team_id\": 1610612738, \"team_abbreviation\": \"BOS\", \"player_age\": 27.0, \"gp\": 23, \"gs\": 23, \"min\": 961.0, \"fgm\": 229, \"fga\": 437, \"fg_pct\": 0.524, \"fg3m\": 7, \"fg3a\": 17, \"fg3_pct\": 0.412, \"ftm\": 167, \"fta\": 190, \"ft_pct\": 0.879, \"oreb\": 62, \"dreb\": 190, \"reb\": 252, \"ast\": 136, \"stl\": 54, \"blk\": 27, \"tov\": 87, \"pf\": 71, \"pts\": 632}]\n",
      "\n"
     ]
    }
   ],
   "source": [
    "import requests\n",
    "\n",
    "url = \"https://nba-stats4.p.rapidapi.com/season_totals_post_season/\"\n",
    "\n",
    "querystring = {\"page\":\"1\",\"per_page\":\"2\"}\n",
    "\n",
    "headers = {\n",
    "    'x-rapidapi-key': \"f55066f14bmsh6d063729f06538bp10c53ejsn5f836a675052\",\n",
    "    'x-rapidapi-host': \"nba-stats4.p.rapidapi.com\"\n",
    "    }\n",
    "\n",
    "response = requests.request(\"GET\", url, headers=headers, params=querystring)\n",
    "\n",
    "print(response.text)"
   ]
  },
  {
   "cell_type": "code",
   "execution_count": 44,
   "metadata": {},
   "outputs": [],
   "source": [
    "data = response.text"
   ]
  },
  {
   "cell_type": "code",
   "execution_count": 40,
   "metadata": {},
   "outputs": [
    {
     "data": {
      "text/plain": [
       "str"
      ]
     },
     "execution_count": 40,
     "metadata": {},
     "output_type": "execute_result"
    }
   ],
   "source": [
    "type(data)"
   ]
  },
  {
   "cell_type": "code",
   "execution_count": 41,
   "metadata": {},
   "outputs": [
    {
     "ename": "NameError",
     "evalue": "name 'split' is not defined",
     "output_type": "error",
     "traceback": [
      "\u001b[0;31m---------------------------------------------------------------------------\u001b[0m",
      "\u001b[0;31mNameError\u001b[0m                                 Traceback (most recent call last)",
      "\u001b[0;32m<ipython-input-41-b2c4ca1b6d28>\u001b[0m in \u001b[0;36m<module>\u001b[0;34m\u001b[0m\n\u001b[0;32m----> 1\u001b[0;31m \u001b[0msplit\u001b[0m\u001b[0;34m(\u001b[0m\u001b[0;34m)\u001b[0m\u001b[0;34m\u001b[0m\u001b[0;34m\u001b[0m\u001b[0m\n\u001b[0m",
      "\u001b[0;31mNameError\u001b[0m: name 'split' is not defined"
     ]
    }
   ],
   "source": [
    "split()"
   ]
  },
  {
   "cell_type": "code",
   "execution_count": 46,
   "metadata": {},
   "outputs": [
    {
     "ename": "FileNotFoundError",
     "evalue": "[Errno 2] No such file or directory: 'response.text'",
     "output_type": "error",
     "traceback": [
      "\u001b[0;31m---------------------------------------------------------------------------\u001b[0m",
      "\u001b[0;31mFileNotFoundError\u001b[0m                         Traceback (most recent call last)",
      "\u001b[0;32m<ipython-input-46-6ff697915215>\u001b[0m in \u001b[0;36m<module>\u001b[0;34m\u001b[0m\n\u001b[0;32m----> 1\u001b[0;31m \u001b[0mdf\u001b[0m \u001b[0;34m=\u001b[0m \u001b[0mpd\u001b[0m\u001b[0;34m.\u001b[0m\u001b[0mread_csv\u001b[0m\u001b[0;34m(\u001b[0m\u001b[0;34m\"response.text\"\u001b[0m\u001b[0;34m,\u001b[0m \u001b[0msep\u001b[0m\u001b[0;34m=\u001b[0m\u001b[0;34m\",\"\u001b[0m\u001b[0;34m)\u001b[0m\u001b[0;34m\u001b[0m\u001b[0;34m\u001b[0m\u001b[0m\n\u001b[0m",
      "\u001b[0;32m/usr/local/lib/python3.9/site-packages/pandas/io/parsers.py\u001b[0m in \u001b[0;36mread_csv\u001b[0;34m(filepath_or_buffer, sep, delimiter, header, names, index_col, usecols, squeeze, prefix, mangle_dupe_cols, dtype, engine, converters, true_values, false_values, skipinitialspace, skiprows, skipfooter, nrows, na_values, keep_default_na, na_filter, verbose, skip_blank_lines, parse_dates, infer_datetime_format, keep_date_col, date_parser, dayfirst, cache_dates, iterator, chunksize, compression, thousands, decimal, lineterminator, quotechar, quoting, doublequote, escapechar, comment, encoding, dialect, error_bad_lines, warn_bad_lines, delim_whitespace, low_memory, memory_map, float_precision)\u001b[0m\n\u001b[1;32m    686\u001b[0m     )\n\u001b[1;32m    687\u001b[0m \u001b[0;34m\u001b[0m\u001b[0m\n\u001b[0;32m--> 688\u001b[0;31m     \u001b[0;32mreturn\u001b[0m \u001b[0m_read\u001b[0m\u001b[0;34m(\u001b[0m\u001b[0mfilepath_or_buffer\u001b[0m\u001b[0;34m,\u001b[0m \u001b[0mkwds\u001b[0m\u001b[0;34m)\u001b[0m\u001b[0;34m\u001b[0m\u001b[0;34m\u001b[0m\u001b[0m\n\u001b[0m\u001b[1;32m    689\u001b[0m \u001b[0;34m\u001b[0m\u001b[0m\n\u001b[1;32m    690\u001b[0m \u001b[0;34m\u001b[0m\u001b[0m\n",
      "\u001b[0;32m/usr/local/lib/python3.9/site-packages/pandas/io/parsers.py\u001b[0m in \u001b[0;36m_read\u001b[0;34m(filepath_or_buffer, kwds)\u001b[0m\n\u001b[1;32m    452\u001b[0m \u001b[0;34m\u001b[0m\u001b[0m\n\u001b[1;32m    453\u001b[0m     \u001b[0;31m# Create the parser.\u001b[0m\u001b[0;34m\u001b[0m\u001b[0;34m\u001b[0m\u001b[0;34m\u001b[0m\u001b[0m\n\u001b[0;32m--> 454\u001b[0;31m     \u001b[0mparser\u001b[0m \u001b[0;34m=\u001b[0m \u001b[0mTextFileReader\u001b[0m\u001b[0;34m(\u001b[0m\u001b[0mfp_or_buf\u001b[0m\u001b[0;34m,\u001b[0m \u001b[0;34m**\u001b[0m\u001b[0mkwds\u001b[0m\u001b[0;34m)\u001b[0m\u001b[0;34m\u001b[0m\u001b[0;34m\u001b[0m\u001b[0m\n\u001b[0m\u001b[1;32m    455\u001b[0m \u001b[0;34m\u001b[0m\u001b[0m\n\u001b[1;32m    456\u001b[0m     \u001b[0;32mif\u001b[0m \u001b[0mchunksize\u001b[0m \u001b[0;32mor\u001b[0m \u001b[0miterator\u001b[0m\u001b[0;34m:\u001b[0m\u001b[0;34m\u001b[0m\u001b[0;34m\u001b[0m\u001b[0m\n",
      "\u001b[0;32m/usr/local/lib/python3.9/site-packages/pandas/io/parsers.py\u001b[0m in \u001b[0;36m__init__\u001b[0;34m(self, f, engine, **kwds)\u001b[0m\n\u001b[1;32m    946\u001b[0m             \u001b[0mself\u001b[0m\u001b[0;34m.\u001b[0m\u001b[0moptions\u001b[0m\u001b[0;34m[\u001b[0m\u001b[0;34m\"has_index_names\"\u001b[0m\u001b[0;34m]\u001b[0m \u001b[0;34m=\u001b[0m \u001b[0mkwds\u001b[0m\u001b[0;34m[\u001b[0m\u001b[0;34m\"has_index_names\"\u001b[0m\u001b[0;34m]\u001b[0m\u001b[0;34m\u001b[0m\u001b[0;34m\u001b[0m\u001b[0m\n\u001b[1;32m    947\u001b[0m \u001b[0;34m\u001b[0m\u001b[0m\n\u001b[0;32m--> 948\u001b[0;31m         \u001b[0mself\u001b[0m\u001b[0;34m.\u001b[0m\u001b[0m_make_engine\u001b[0m\u001b[0;34m(\u001b[0m\u001b[0mself\u001b[0m\u001b[0;34m.\u001b[0m\u001b[0mengine\u001b[0m\u001b[0;34m)\u001b[0m\u001b[0;34m\u001b[0m\u001b[0;34m\u001b[0m\u001b[0m\n\u001b[0m\u001b[1;32m    949\u001b[0m \u001b[0;34m\u001b[0m\u001b[0m\n\u001b[1;32m    950\u001b[0m     \u001b[0;32mdef\u001b[0m \u001b[0mclose\u001b[0m\u001b[0;34m(\u001b[0m\u001b[0mself\u001b[0m\u001b[0;34m)\u001b[0m\u001b[0;34m:\u001b[0m\u001b[0;34m\u001b[0m\u001b[0;34m\u001b[0m\u001b[0m\n",
      "\u001b[0;32m/usr/local/lib/python3.9/site-packages/pandas/io/parsers.py\u001b[0m in \u001b[0;36m_make_engine\u001b[0;34m(self, engine)\u001b[0m\n\u001b[1;32m   1178\u001b[0m     \u001b[0;32mdef\u001b[0m \u001b[0m_make_engine\u001b[0m\u001b[0;34m(\u001b[0m\u001b[0mself\u001b[0m\u001b[0;34m,\u001b[0m \u001b[0mengine\u001b[0m\u001b[0;34m=\u001b[0m\u001b[0;34m\"c\"\u001b[0m\u001b[0;34m)\u001b[0m\u001b[0;34m:\u001b[0m\u001b[0;34m\u001b[0m\u001b[0;34m\u001b[0m\u001b[0m\n\u001b[1;32m   1179\u001b[0m         \u001b[0;32mif\u001b[0m \u001b[0mengine\u001b[0m \u001b[0;34m==\u001b[0m \u001b[0;34m\"c\"\u001b[0m\u001b[0;34m:\u001b[0m\u001b[0;34m\u001b[0m\u001b[0;34m\u001b[0m\u001b[0m\n\u001b[0;32m-> 1180\u001b[0;31m             \u001b[0mself\u001b[0m\u001b[0;34m.\u001b[0m\u001b[0m_engine\u001b[0m \u001b[0;34m=\u001b[0m \u001b[0mCParserWrapper\u001b[0m\u001b[0;34m(\u001b[0m\u001b[0mself\u001b[0m\u001b[0;34m.\u001b[0m\u001b[0mf\u001b[0m\u001b[0;34m,\u001b[0m \u001b[0;34m**\u001b[0m\u001b[0mself\u001b[0m\u001b[0;34m.\u001b[0m\u001b[0moptions\u001b[0m\u001b[0;34m)\u001b[0m\u001b[0;34m\u001b[0m\u001b[0;34m\u001b[0m\u001b[0m\n\u001b[0m\u001b[1;32m   1181\u001b[0m         \u001b[0;32melse\u001b[0m\u001b[0;34m:\u001b[0m\u001b[0;34m\u001b[0m\u001b[0;34m\u001b[0m\u001b[0m\n\u001b[1;32m   1182\u001b[0m             \u001b[0;32mif\u001b[0m \u001b[0mengine\u001b[0m \u001b[0;34m==\u001b[0m \u001b[0;34m\"python\"\u001b[0m\u001b[0;34m:\u001b[0m\u001b[0;34m\u001b[0m\u001b[0;34m\u001b[0m\u001b[0m\n",
      "\u001b[0;32m/usr/local/lib/python3.9/site-packages/pandas/io/parsers.py\u001b[0m in \u001b[0;36m__init__\u001b[0;34m(self, src, **kwds)\u001b[0m\n\u001b[1;32m   2008\u001b[0m         \u001b[0mkwds\u001b[0m\u001b[0;34m[\u001b[0m\u001b[0;34m\"usecols\"\u001b[0m\u001b[0;34m]\u001b[0m \u001b[0;34m=\u001b[0m \u001b[0mself\u001b[0m\u001b[0;34m.\u001b[0m\u001b[0musecols\u001b[0m\u001b[0;34m\u001b[0m\u001b[0;34m\u001b[0m\u001b[0m\n\u001b[1;32m   2009\u001b[0m \u001b[0;34m\u001b[0m\u001b[0m\n\u001b[0;32m-> 2010\u001b[0;31m         \u001b[0mself\u001b[0m\u001b[0;34m.\u001b[0m\u001b[0m_reader\u001b[0m \u001b[0;34m=\u001b[0m \u001b[0mparsers\u001b[0m\u001b[0;34m.\u001b[0m\u001b[0mTextReader\u001b[0m\u001b[0;34m(\u001b[0m\u001b[0msrc\u001b[0m\u001b[0;34m,\u001b[0m \u001b[0;34m**\u001b[0m\u001b[0mkwds\u001b[0m\u001b[0;34m)\u001b[0m\u001b[0;34m\u001b[0m\u001b[0;34m\u001b[0m\u001b[0m\n\u001b[0m\u001b[1;32m   2011\u001b[0m         \u001b[0mself\u001b[0m\u001b[0;34m.\u001b[0m\u001b[0munnamed_cols\u001b[0m \u001b[0;34m=\u001b[0m \u001b[0mself\u001b[0m\u001b[0;34m.\u001b[0m\u001b[0m_reader\u001b[0m\u001b[0;34m.\u001b[0m\u001b[0munnamed_cols\u001b[0m\u001b[0;34m\u001b[0m\u001b[0;34m\u001b[0m\u001b[0m\n\u001b[1;32m   2012\u001b[0m \u001b[0;34m\u001b[0m\u001b[0m\n",
      "\u001b[0;32mpandas/_libs/parsers.pyx\u001b[0m in \u001b[0;36mpandas._libs.parsers.TextReader.__cinit__\u001b[0;34m()\u001b[0m\n",
      "\u001b[0;32mpandas/_libs/parsers.pyx\u001b[0m in \u001b[0;36mpandas._libs.parsers.TextReader._setup_parser_source\u001b[0;34m()\u001b[0m\n",
      "\u001b[0;31mFileNotFoundError\u001b[0m: [Errno 2] No such file or directory: 'response.text'"
     ]
    }
   ],
   "source": [
    "df = pd.read_csv(\"response.text\", sep=\",\")"
   ]
  },
  {
   "cell_type": "code",
   "execution_count": null,
   "metadata": {},
   "outputs": [],
   "source": []
  },
  {
   "cell_type": "code",
   "execution_count": 24,
   "metadata": {},
   "outputs": [],
   "source": [
    "data = response.text"
   ]
  },
  {
   "cell_type": "code",
   "execution_count": 25,
   "metadata": {},
   "outputs": [
    {
     "ename": "AttributeError",
     "evalue": "'str' object has no attribute 'get'",
     "output_type": "error",
     "traceback": [
      "\u001b[0;31m---------------------------------------------------------------------------\u001b[0m",
      "\u001b[0;31mAttributeError\u001b[0m                            Traceback (most recent call last)",
      "\u001b[0;32m<ipython-input-25-c42a75d51ccf>\u001b[0m in \u001b[0;36m<module>\u001b[0;34m\u001b[0m\n\u001b[0;32m----> 1\u001b[0;31m \u001b[0mdata\u001b[0m\u001b[0;34m.\u001b[0m\u001b[0mget\u001b[0m\u001b[0;34m(\u001b[0m\u001b[0;34m\"blk\"\u001b[0m\u001b[0;34m)\u001b[0m\u001b[0;34m\u001b[0m\u001b[0;34m\u001b[0m\u001b[0m\n\u001b[0m",
      "\u001b[0;31mAttributeError\u001b[0m: 'str' object has no attribute 'get'"
     ]
    }
   ],
   "source": [
    "data.get(\"blk\")"
   ]
  },
  {
   "cell_type": "code",
   "execution_count": 27,
   "metadata": {},
   "outputs": [
    {
     "name": "stdout",
     "output_type": "stream",
     "text": [
      "[{\"player_id\": 1449, \"season_id\": \"1982-83\", \"league_id\": \"00\", \"team_id\": 1610612738, \"team_abbreviation\": \"BOS\", \"player_age\": 26.0, \"gp\": 6, \"gs\": 6.0, \"min\": 36.0, \"fgm\": 49, \"fga\": 116, \"fg_pct\": 0.422, \"fg3m\": 1.0, \"fg3a\": 4.0, \"fg3_pct\": 0.25, \"ftm\": 24, \"fta\": 29, \"ft_pct\": 0.828, \"oreb\": 20, \"dreb\": 55, \"reb\": 75, \"ast\": 41, \"stl\": 13, \"blk\": 3, \"tov\": 19, \"pf\": 15, \"pts\": 123}, {\"player_id\": 1449, \"season_id\": \"1983-84\", \"league_id\": \"00\", \"team_id\": 1610612738, \"team_abbreviation\": \"BOS\", \"player_age\": 27.0, \"gp\": 23, \"gs\": 23.0, \"min\": 961.0, \"fgm\": 229, \"fga\": 437, \"fg_pct\": 0.524, \"fg3m\": 7.0, \"fg3a\": 17.0, \"fg3_pct\": 0.412, \"ftm\": 167, \"fta\": 190, \"ft_pct\": 0.879, \"oreb\": 62, \"dreb\": 190, \"reb\": 252, \"ast\": 136, \"stl\": 54, \"blk\": 27, \"tov\": 87, \"pf\": 71, \"pts\": 632}, {\"player_id\": 1449, \"season_id\": \"1984-85\", \"league_id\": \"00\", \"team_id\": 1610612738, \"team_abbreviation\": \"BOS\", \"player_age\": 28.0, \"gp\": 20, \"gs\": 20.0, \"min\": 815.0, \"fgm\": 196, \"fga\": 425, \"fg_pct\": 0.461, \"fg3m\": 7.0, \"fg3a\": 25.0, \"fg3_pct\": 0.28, \"ftm\": 121, \"fta\": 136, \"ft_pct\": 0.89, \"oreb\": 53, \"dreb\": 129, \"reb\": 182, \"ast\": 115, \"stl\": 34, \"blk\": 19, \"tov\": 57, \"pf\": 54, \"pts\": 520}, {\"player_id\": 1449, \"season_id\": \"1985-86\", \"league_id\": \"00\", \"team_id\": 1610612738, \"team_abbreviation\": \"BOS\", \"player_age\": 29.0, \"gp\": 18, \"gs\": 18.0, \"min\": 770.0, \"fgm\": 171, \"fga\": 331, \"fg_pct\": 0.517, \"fg3m\": 23.0, \"fg3a\": 56.0, \"fg3_pct\": 0.411, \"ftm\": 101, \"fta\": 109, \"ft_pct\": 0.927, \"oreb\": 34, \"dreb\": 134, \"reb\": 168, \"ast\": 148, \"stl\": 37, \"blk\": 11, \"tov\": 47, \"pf\": 55, \"pts\": 466}, {\"player_id\": 1449, \"season_id\": \"1986-87\", \"league_id\": \"00\", \"team_id\": 1610612738, \"team_abbreviation\": \"BOS\", \"player_age\": 30.0, \"gp\": 23, \"gs\": 23.0, \"min\": 1015.0, \"fgm\": 216, \"fga\": 454, \"fg_pct\": 0.476, \"fg3m\": 14.0, \"fg3a\": 41.0, \"fg3_pct\": 0.341, \"ftm\": 176, \"fta\": 193, \"ft_pct\": 0.912, \"oreb\": 41, \"dreb\": 190, \"reb\": 231, \"ast\": 165, \"stl\": 27, \"blk\": 19, \"tov\": 71, \"pf\": 55, \"pts\": 622}, {\"player_id\": 1449, \"season_id\": \"1987-88\", \"league_id\": \"00\", \"team_id\": 1610612738, \"team_abbreviation\": \"BOS\", \"player_age\": 31.0, \"gp\": 17, \"gs\": 17.0, \"min\": 763.0, \"fgm\": 152, \"fga\": 338, \"fg_pct\": 0.45, \"fg3m\": 12.0, \"fg3a\": 32.0, \"fg3_pct\": 0.375, \"ftm\": 101, \"fta\": 113, \"ft_pct\": 0.894, \"oreb\": 29, \"dreb\": 121, \"reb\": 150, \"ast\": 115, \"stl\": 36, \"blk\": 14, \"tov\": 49, \"pf\": 45, \"pts\": 417}, {\"player_id\": 1449, \"season_id\": \"1989-90\", \"league_id\": \"00\", \"team_id\": 1610612738, \"team_abbreviation\": \"BOS\", \"player_age\": 33.0, \"gp\": 5, \"gs\": 5.0, \"min\": 207.0, \"fgm\": 44, \"fga\": 99, \"fg_pct\": 0.444, \"fg3m\": 5.0, \"fg3a\": 19.0, \"fg3_pct\": 0.263, \"ftm\": 29, \"fta\": 32, \"ft_pct\": 0.906, \"oreb\": 7, \"dreb\": 39, \"reb\": 46, \"ast\": 44, \"stl\": 5, \"blk\": 5, \"tov\": 18, \"pf\": 10, \"pts\": 122}, {\"player_id\": 1449, \"season_id\": \"1990-91\", \"league_id\": \"00\", \"team_id\": 1610612738, \"team_abbreviation\": \"BOS\", \"player_age\": 34.0, \"gp\": 10, \"gs\": 10.0, \"min\": 396.0, \"fgm\": 62, \"fga\": 152, \"fg_pct\": 0.408, \"fg3m\": 3.0, \"fg3a\": 21.0, \"fg3_pct\": 0.143, \"ftm\": 44, \"fta\": 51, \"ft_pct\": 0.863, \"oreb\": 8, \"dreb\": 64, \"reb\": 72, \"ast\": 65, \"stl\": 13, \"blk\": 3, \"tov\": 19, \"pf\": 28, \"pts\": 171}, {\"player_id\": 1449, \"season_id\": \"1991-92\", \"league_id\": \"00\", \"team_id\": 1610612738, \"team_abbreviation\": \"BOS\", \"player_age\": 35.0, \"gp\": 4, \"gs\": 2.0, \"min\": 107.0, \"fgm\": 21, \"fga\": 42, \"fg_pct\": 0.5, \"fg3m\": 0.0, \"fg3a\": 5.0, \"fg3_pct\": 0.0, \"ftm\": 3, \"fta\": 4, \"ft_pct\": 0.75, \"oreb\": 2, \"dreb\": 16, \"reb\": 18, \"ast\": 21, \"stl\": 1, \"blk\": 2, \"tov\": 6, \"pf\": 7, \"pts\": 45}, {\"player_id\": 1450, \"season_id\": \"1980-81\", \"league_id\": \"00\", \"team_id\": 1610612738, \"team_abbreviation\": \"BOS\", \"player_age\": 23.0, \"gp\": 17, \"gs\": 0.0, \"min\": 296.0, \"fgm\": 61, \"fga\": 113, \"fg_pct\": 0.54, \"fg3m\": 0.0, \"fg3a\": 0.0, \"fg3_pct\": 0.0, \"ftm\": 23, \"fta\": 36, \"ft_pct\": 0.639, \"oreb\": 29, \"dreb\": 30, \"reb\": 59, \"ast\": 14, \"stl\": 4, \"blk\": 25, \"tov\": 15, \"pf\": 51, \"pts\": 145}, {\"player_id\": 1450, \"season_id\": \"1981-82\", \"league_id\": \"00\", \"team_id\": 1610612738, \"team_abbreviation\": \"BOS\", \"player_age\": 24.0, \"gp\": 12, \"gs\": 0.0, \"min\": 344.0, \"fgm\": 77, \"fga\": 134, \"fg_pct\": 0.575, \"fg3m\": 0.0, \"fg3a\": 0.0, \"fg3_pct\": 0.0, \"ftm\": 40, \"fta\": 53, \"ft_pct\": 0.755, \"oreb\": 41, \"dreb\": 44, \"reb\": 85, \"ast\": 11, \"stl\": 5, \"blk\": 27, \"tov\": 16, \"pf\": 44, \"pts\": 194}, {\"player_id\": 1450, \"season_id\": \"1982-83\", \"league_id\": \"00\", \"team_id\": 1610612738, \"team_abbreviation\": \"BOS\", \"player_age\": 25.0, \"gp\": 7, \"gs\": 1.0, \"min\": 22.0, \"fgm\": 34, \"fga\": 62, \"fg_pct\": 0.548, \"fg3m\": 0.0, \"fg3a\": 1.0, \"fg3_pct\": 0.0, \"ftm\": 10, \"fta\": 18, \"ft_pct\": 0.556, \"oreb\": 15, \"dreb\": 27, \"reb\": 42, \"ast\": 5, \"stl\": 3, \"blk\": 7, \"tov\": 10, \"pf\": 16, \"pts\": 78}, {\"player_id\": 1450, \"season_id\": \"1983-84\", \"league_id\": \"00\", \"team_id\": 1610612738, \"team_abbreviation\": \"BOS\", \"player_age\": 26.0, \"gp\": 23, \"gs\": 0.0, \"min\": 702.0, \"fgm\": 123, \"fga\": 244, \"fg_pct\": 0.504, \"fg3m\": 0.0, \"fg3a\": 3.0, \"fg3_pct\": 0.0, \"ftm\": 94, \"fta\": 121, \"ft_pct\": 0.777, \"oreb\": 62, \"dreb\": 81, \"reb\": 143, \"ast\": 27, \"stl\": 3, \"blk\": 35, \"tov\": 38, \"pf\": 75, \"pts\": 340}, {\"player_id\": 1450, \"season_id\": \"1984-85\", \"league_id\": \"00\", \"team_id\": 1610612738, \"team_abbreviation\": \"BOS\", \"player_age\": 27.0, \"gp\": 21, \"gs\": 21.0, \"min\": 837.0, \"fgm\": 172, \"fga\": 303, \"fg_pct\": 0.568, \"fg3m\": 0.0, \"fg3a\": 0.0, \"fg3_pct\": 0.0, \"ftm\": 121, \"fta\": 150, \"ft_pct\": 0.807, \"oreb\": 74, \"dreb\": 134, \"reb\": 208, \"ast\": 32, \"stl\": 13, \"blk\": 46, \"tov\": 60, \"pf\": 73, \"pts\": 465}, {\"player_id\": 1450, \"season_id\": \"1985-86\", \"league_id\": \"00\", \"team_id\": 1610612738, \"team_abbreviation\": \"BOS\", \"player_age\": 28.0, \"gp\": 18, \"gs\": 18.0, \"min\": 715.0, \"fgm\": 168, \"fga\": 290, \"fg_pct\": 0.579, \"fg3m\": 0.0, \"fg3a\": 1.0, \"fg3_pct\": 0.0, \"ftm\": 112, \"fta\": 141, \"ft_pct\": 0.794, \"oreb\": 51, \"dreb\": 104, \"reb\": 155, \"ast\": 48, \"stl\": 8, \"blk\": 43, \"tov\": 48, \"pf\": 64, \"pts\": 448}, {\"player_id\": 1450, \"season_id\": \"1986-87\", \"league_id\": \"00\", \"team_id\": 1610612738, \"team_abbreviation\": \"BOS\", \"player_age\": 29.0, \"gp\": 21, \"gs\": 19.0, \"min\": 827.0, \"fgm\": 174, \"fga\": 298, \"fg_pct\": 0.584, \"fg3m\": 0.0, \"fg3a\": 0.0, \"fg3_pct\": 0.0, \"ftm\": 96, \"fta\": 126, \"ft_pct\": 0.762, \"oreb\": 66, \"dreb\": 128, \"reb\": 194, \"ast\": 39, \"stl\": 7, \"blk\": 30, \"tov\": 54, \"pf\": 71, \"pts\": 444}, {\"player_id\": 1450, \"season_id\": \"1987-88\", \"league_id\": \"00\", \"team_id\": 1610612738, \"team_abbreviation\": \"BOS\", \"player_age\": 30.0, \"gp\": 17, \"gs\": 17.0, \"min\": 716.0, \"fgm\": 158, \"fga\": 262, \"fg_pct\": 0.603, \"fg3m\": 1.0, \"fg3a\": 1.0, \"fg3_pct\": 1.0, \"ftm\": 115, \"fta\": 137, \"ft_pct\": 0.839, \"oreb\": 55, \"dreb\": 81, \"reb\": 136, \"ast\": 40, \"stl\": 7, \"blk\": 30, \"tov\": 39, \"pf\": 65, \"pts\": 432}, {\"player_id\": 1450, \"season_id\": \"1988-89\", \"league_id\": \"00\", \"team_id\": 1610612738, \"team_abbreviation\": \"BOS\", \"player_age\": 31.0, \"gp\": 3, \"gs\": 3.0, \"min\": 115.0, \"fgm\": 20, \"fga\": 41, \"fg_pct\": 0.488, \"fg3m\": 0.0, \"fg3a\": 0.0, \"fg3_pct\": 0.0, \"ftm\": 17, \"fta\": 23, \"ft_pct\": 0.739, \"oreb\": 7, \"dreb\": 17, \"reb\": 24, \"ast\": 9, \"stl\": 1, \"blk\": 2, \"tov\": 4, \"pf\": 13, \"pts\": 57}, {\"player_id\": 1450, \"season_id\": \"1989-90\", \"league_id\": \"00\", \"team_id\": 1610612738, \"team_abbreviation\": \"BOS\", \"player_age\": 32.0, \"gp\": 5, \"gs\": 5.0, \"min\": 192.0, \"fgm\": 42, \"fga\": 69, \"fg_pct\": 0.609, \"fg3m\": 1.0, \"fg3a\": 3.0, \"fg3_pct\": 0.333, \"ftm\": 25, \"fta\": 29, \"ft_pct\": 0.862, \"oreb\": 8, \"dreb\": 31, \"reb\": 39, \"ast\": 13, \"stl\": 2, \"blk\": 10, \"tov\": 14, \"pf\": 17, \"pts\": 110}, {\"player_id\": 1450, \"season_id\": \"1990-91\", \"league_id\": \"00\", \"team_id\": 1610612738, \"team_abbreviation\": \"BOS\", \"player_age\": 33.0, \"gp\": 11, \"gs\": 1.0, \"min\": 376.0, \"fgm\": 78, \"fga\": 148, \"fg_pct\": 0.527, \"fg3m\": 6.0, \"fg3a\": 11.0, \"fg3_pct\": 0.545, \"ftm\": 66, \"fta\": 80, \"ft_pct\": 0.825, \"oreb\": 18, \"dreb\": 54, \"reb\": 72, \"ast\": 20, \"stl\": 5, \"blk\": 14, \"tov\": 14, \"pf\": 42, \"pts\": 228}, {\"player_id\": 1450, \"season_id\": \"1991-92\", \"league_id\": \"00\", \"team_id\": 1610612738, \"team_abbreviation\": \"BOS\", \"player_age\": 34.0, \"gp\": 10, \"gs\": 0.0, \"min\": 306.0, \"fgm\": 65, \"fga\": 126, \"fg_pct\": 0.516, \"fg3m\": 0.0, \"fg3a\": 1.0, \"fg3_pct\": 0.0, \"ftm\": 35, \"fta\": 44, \"ft_pct\": 0.795, \"oreb\": 21, \"dreb\": 46, \"reb\": 67, \"ast\": 13, \"stl\": 5, \"blk\": 5, \"tov\": 9, \"pf\": 34, \"pts\": 165}, {\"player_id\": 1450, \"season_id\": \"1992-93\", \"league_id\": \"00\", \"team_id\": 1610612738, \"team_abbreviation\": \"BOS\", \"player_age\": 35.0, \"gp\": 4, \"gs\": 0.0, \"min\": 113.0, \"fgm\": 32, \"fga\": 55, \"fg_pct\": 0.582, \"fg3m\": 0.0, \"fg3a\": 0.0, \"fg3_pct\": 0.0, \"ftm\": 12, \"fta\": 14, \"ft_pct\": 0.857, \"oreb\": 9, \"dreb\": 20, \"reb\": 29, \"ast\": 3, \"stl\": 2, \"blk\": 7, \"tov\": 5, \"pf\": 6, \"pts\": 76}, {\"player_id\": 1453, \"season_id\": \"1977-78\", \"league_id\": \"00\", \"team_id\": 1610612756, \"team_abbreviation\": \"PHX\", \"player_age\": 23.0, \"gp\": 2, \"gs\": null, \"min\": 66.0, \"fgm\": 19, \"fga\": 40, \"fg_pct\": 0.475, \"fg3m\": null, \"fg3a\": null, \"fg3_pct\": null, \"ftm\": 12, \"fta\": 16, \"ft_pct\": 0.75, \"oreb\": 4, \"dreb\": 13, \"reb\": 17, \"ast\": 8, \"stl\": 3, \"blk\": 0, \"tov\": 6, \"pf\": 8, \"pts\": 50}, {\"player_id\": 1453, \"season_id\": \"1978-79\", \"league_id\": \"00\", \"team_id\": 1610612756, \"team_abbreviation\": \"PHX\", \"player_age\": 24.0, \"gp\": 15, \"gs\": null, \"min\": 490.0, \"fgm\": 127, \"fga\": 244, \"fg_pct\": 0.52, \"fg3m\": null, \"fg3a\": null, \"fg3_pct\": null, \"ftm\": 78, \"fta\": 96, \"ft_pct\": 0.813, \"oreb\": 24, \"dreb\": 45, \"reb\": 69, \"ast\": 79, \"stl\": 26, \"blk\": 5, \"tov\": 66, \"pf\": 41, \"pts\": 332}, {\"player_id\": 1453, \"season_id\": \"1979-80\", \"league_id\": \"00\", \"team_id\": 1610612756, \"team_abbreviation\": \"PHX\", \"player_age\": 25.0, \"gp\": 8, \"gs\": null, \"min\": 245.0, \"fgm\": 69, \"fga\": 137, \"fg_pct\": 0.504, \"fg3m\": 0.0, \"fg3a\": 3.0, \"fg3_pct\": 0.0, \"ftm\": 28, \"fta\": 38, \"ft_pct\": 0.737, \"oreb\": 9, \"dreb\": 14, \"reb\": 23, \"ast\": 35, \"stl\": 4, \"blk\": 1, \"tov\": 20, \"pf\": 20, \"pts\": 166}, {\"player_id\": 1453, \"season_id\": \"1980-81\", \"league_id\": \"00\", \"team_id\": 1610612756, \"team_abbreviation\": \"PHX\", \"player_age\": 26.0, \"gp\": 7, \"gs\": null, \"min\": 199.0, \"fgm\": 51, \"fga\": 106, \"fg_pct\": 0.481, \"fg3m\": 0.0, \"fg3a\": 1.0, \"fg3_pct\": 0.0, \"ftm\": 10, \"fta\": 17, \"ft_pct\": 0.588, \"oreb\": 7, \"dreb\": 12, \"reb\": 19, \"ast\": 22, \"stl\": 7, \"blk\": 1, \"tov\": 17, \"pf\": 17, \"pts\": 112}, {\"player_id\": 1453, \"season_id\": \"1981-82\", \"league_id\": \"00\", \"team_id\": 1610612756, \"team_abbreviation\": \"PHX\", \"player_age\": 27.0, \"gp\": 7, \"gs\": 0.0, \"min\": 173.0, \"fgm\": 52, \"fga\": 116, \"fg_pct\": 0.448, \"fg3m\": 1.0, \"fg3a\": 3.0, \"fg3_pct\": 0.333, \"ftm\": 22, \"fta\": 24, \"ft_pct\": 0.917, \"oreb\": 5, \"dreb\": 17, \"reb\": 22, \"ast\": 30, \"stl\": 5, \"blk\": 1, \"tov\": 12, \"pf\": 19, \"pts\": 127}, {\"player_id\": 1453, \"season_id\": \"1982-83\", \"league_id\": \"00\", \"team_id\": 1610612756, \"team_abbreviation\": \"PHX\", \"player_age\": 28.0, \"gp\": 3, \"gs\": 3.0, \"min\": null, \"fgm\": 30, \"fga\": 69, \"fg_pct\": 0.435, \"fg3m\": 1.0, \"fg3a\": 2.0, \"fg3_pct\": 0.5, \"ftm\": 17, \"fta\": 21, \"ft_pct\": 0.81, \"oreb\": 5, \"dreb\": 10, \"reb\": 15, \"ast\": 13, \"stl\": 6, \"blk\": 5, \"tov\": 5, \"pf\": 6, \"pts\": 78}, {\"player_id\": 1453, \"season_id\": \"1983-84\", \"league_id\": \"00\", \"team_id\": 1610612756, \"team_abbreviation\": \"PHX\", \"player_age\": 29.0, \"gp\": 17, \"gs\": 17.0, \"min\": 623.0, \"fgm\": 175, \"fga\": 327, \"fg_pct\": 0.535, \"fg3m\": 3.0, \"fg3a\": 11.0, \"fg3_pct\": 0.273, \"ftm\": 70, \"fta\": 78, \"ft_pct\": 0.897, \"oreb\": 15, \"dreb\": 31, \"reb\": 46, \"ast\": 109, \"stl\": 29, \"blk\": 3, \"tov\": 43, \"pf\": 55, \"pts\": 423}, {\"player_id\": 1453, \"season_id\": \"1988-89\", \"league_id\": \"00\", \"team_id\": 1610612743, \"team_abbreviation\": \"DEN\", \"player_age\": 34.0, \"gp\": 3, \"gs\": 0.0, \"min\": 94.0, \"fgm\": 31, \"fga\": 60, \"fg_pct\": 0.517, \"fg3m\": 0.0, \"fg3a\": 4.0, \"fg3_pct\": 0.0, \"ftm\": 15, \"fta\": 15, \"ft_pct\": 1.0, \"oreb\": 2, \"dreb\": 3, \"reb\": 5, \"ast\": 4, \"stl\": 3, \"blk\": 0, \"tov\": 8, \"pf\": 11, \"pts\": 77}, {\"player_id\": 1453, \"season_id\": \"1989-90\", \"league_id\": \"00\", \"team_id\": 1610612743, \"team_abbreviation\": \"DEN\", \"player_age\": 35.0, \"gp\": 3, \"gs\": 0.0, \"min\": 70.0, \"fgm\": 18, \"fga\": 45, \"fg_pct\": 0.4, \"fg3m\": 0.0, \"fg3a\": 1.0, \"fg3_pct\": 0.0, \"ftm\": 6, \"fta\": 6, \"ft_pct\": 1.0, \"oreb\": 4, \"dreb\": 5, \"reb\": 9, \"ast\": 6, \"stl\": 1, \"blk\": 0, \"tov\": 5, \"pf\": 4, \"pts\": 42}, {\"player_id\": 1453, \"season_id\": \"1990-91\", \"league_id\": \"00\", \"team_id\": 1610612757, \"team_abbreviation\": \"POR\", \"player_age\": 36.0, \"gp\": 13, \"gs\": 0.0, \"min\": 111.0, \"fgm\": 19, \"fga\": 48, \"fg_pct\": 0.396, \"fg3m\": 0.0, \"fg3a\": 1.0, \"fg3_pct\": 0.0, \"ftm\": 5, \"fta\": 6, \"ft_pct\": 0.833, \"oreb\": 7, \"dreb\": 8, \"reb\": 15, \"ast\": 6, \"stl\": 4, \"blk\": 0, \"tov\": 7, \"pf\": 5, \"pts\": 43}, {\"player_id\": 1456, \"season_id\": \"1983-84\", \"league_id\": \"00\", \"team_id\": 1610612737, \"team_abbreviation\": \"ATL\", \"player_age\": 24.0, \"gp\": 5, \"gs\": 0.0, \"min\": 96.0, \"fgm\": 20, \"fga\": 37, \"fg_pct\": 0.541, \"fg3m\": 0.0, \"fg3a\": 0.0, \"fg3_pct\": 0.0, \"ftm\": 0, \"fta\": 0, \"ft_pct\": 0.0, \"oreb\": 5, \"dreb\": 4, \"reb\": 9, \"ast\": 11, \"stl\": 1, \"blk\": 0, \"tov\": 4, \"pf\": 5, \"pts\": 40}, {\"player_id\": 1456, \"season_id\": \"1985-86\", \"league_id\": \"00\", \"team_id\": 1610612737, \"team_abbreviation\": \"ATL\", \"player_age\": 26.0, \"gp\": 9, \"gs\": 9.0, \"min\": 348.0, \"fgm\": 71, \"fga\": 135, \"fg_pct\": 0.526, \"fg3m\": 0.0, \"fg3a\": 2.0, \"fg3_pct\": 0.0, \"ftm\": 18, \"fta\": 26, \"ft_pct\": 0.692, \"oreb\": 4, \"dreb\": 20, \"reb\": 24, \"ast\": 30, \"stl\": 10, \"blk\": 1, \"tov\": 13, \"pf\": 16, \"pts\": 160}, {\"player_id\": 1456, \"season_id\": \"1986-87\", \"league_id\": \"00\", \"team_id\": 1610612737, \"team_abbreviation\": \"ATL\", \"player_age\": 27.0, \"gp\": 9, \"gs\": 9.0, \"min\": 300.0, \"fgm\": 67, \"fga\": 121, \"fg_pct\": 0.554, \"fg3m\": 0.0, \"fg3a\": 0.0, \"fg3_pct\": 0.0, \"ftm\": 14, \"fta\": 17, \"ft_pct\": 0.824, \"oreb\": 3, \"dreb\": 15, \"reb\": 18, \"ast\": 30, \"stl\": 4, \"blk\": 4, \"tov\": 12, \"pf\": 22, \"pts\": 148}, {\"player_id\": 1456, \"season_id\": \"1987-88\", \"league_id\": \"00\", \"team_id\": 1610612737, \"team_abbreviation\": \"ATL\", \"player_age\": 28.0, \"gp\": 12, \"gs\": 12.0, \"min\": 344.0, \"fgm\": 66, \"fga\": 122, \"fg_pct\": 0.541, \"fg3m\": 0.0, \"fg3a\": 0.0, \"fg3_pct\": 0.0, \"ftm\": 5, \"fta\": 7, \"ft_pct\": 0.714, \"oreb\": 9, \"dreb\": 17, \"reb\": 26, \"ast\": 43, \"stl\": 7, \"blk\": 1, \"tov\": 13, \"pf\": 24, \"pts\": 137}, {\"player_id\": 1456, \"season_id\": \"1989-90\", \"league_id\": \"00\", \"team_id\": 1610612754, \"team_abbreviation\": \"IND\", \"player_age\": 30.0, \"gp\": 2, \"gs\": 0.0, \"min\": 11.0, \"fgm\": 0, \"fga\": 1, \"fg_pct\": 0.0, \"fg3m\": 0.0, \"fg3a\": 0.0, \"fg3_pct\": 0.0, \"ftm\": 0, \"fta\": 0, \"ft_pct\": 0.0, \"oreb\": 0, \"dreb\": 1, \"reb\": 1, \"ast\": 0, \"stl\": 0, \"blk\": 0, \"tov\": 0, \"pf\": 0, \"pts\": 0}, {\"player_id\": 1456, \"season_id\": \"1990-91\", \"league_id\": \"00\", \"team_id\": 1610612754, \"team_abbreviation\": \"IND\", \"player_age\": 31.0, \"gp\": 1, \"gs\": 0.0, \"min\": 6.0, \"fgm\": 1, \"fga\": 1, \"fg_pct\": 1.0, \"fg3m\": 0.0, \"fg3a\": 0.0, \"fg3_pct\": 0.0, \"ftm\": 0, \"fta\": 0, \"ft_pct\": 0.0, \"oreb\": 0, \"dreb\": 0, \"reb\": 0, \"ast\": 1, \"stl\": 0, \"blk\": 0, \"tov\": 0, \"pf\": 1, \"pts\": 2}, {\"player_id\": 1460, \"season_id\": \"1983-84\", \"league_id\": \"00\", \"team_id\": 1610612747, \"team_abbreviation\": \"LAL\", \"player_age\": 23.0, \"gp\": 21, \"gs\": 8.0, \"min\": 708.0, \"fgm\": 164, \"fga\": 274, \"fg_pct\": 0.599, \"fg3m\": 1.0, \"fg3a\": 2.0, \"fg3_pct\": 0.5, \"ftm\": 42, \"fta\": 69, \"ft_pct\": 0.609, \"oreb\": 36, \"dreb\": 69, \"reb\": 105, \"ast\": 56, \"stl\": 27, \"blk\": 11, \"tov\": 39, \"pf\": 57, \"pts\": 371}, {\"player_id\": 1460, \"season_id\": \"1984-85\", \"league_id\": \"00\", \"team_id\": 1610612747, \"team_abbreviation\": \"LAL\", \"player_age\": 24.0, \"gp\": 19, \"gs\": 19.0, \"min\": 626.0, \"fgm\": 166, \"fga\": 267, \"fg_pct\": 0.622, \"fg3m\": 1.0, \"fg3a\": 2.0, \"fg3_pct\": 0.5, \"ftm\": 75, \"fta\": 111, \"ft_pct\": 0.676, \"oreb\": 35, \"dreb\": 61, \"reb\": 96, \"ast\": 41, \"stl\": 17, \"blk\": 13, \"tov\": 26, \"pf\": 53, \"pts\": 408}, {\"player_id\": 1460, \"season_id\": \"1985-86\", \"league_id\": \"00\", \"team_id\": 1610612747, \"team_abbreviation\": \"LAL\", \"player_age\": 25.0, \"gp\": 14, \"gs\": 14.0, \"min\": 539.0, \"fgm\": 121, \"fga\": 217, \"fg_pct\": 0.558, \"fg3m\": 0.0, \"fg3a\": 4.0, \"fg3_pct\": 0.0, \"ftm\": 32, \"fta\": 47, \"ft_pct\": 0.681, \"oreb\": 22, \"dreb\": 43, \"reb\": 65, \"ast\": 45, \"stl\": 16, \"blk\": 10, \"tov\": 36, \"pf\": 43, \"pts\": 274}, {\"player_id\": 1460, \"season_id\": \"1986-87\", \"league_id\": \"00\", \"team_id\": 1610612747, \"team_abbreviation\": \"LAL\", \"player_age\": 26.0, \"gp\": 18, \"gs\": 18.0, \"min\": 681.0, \"fgm\": 176, \"fga\": 298, \"fg_pct\": 0.591, \"fg3m\": 0.0, \"fg3a\": 2.0, \"fg3_pct\": 0.0, \"ftm\": 73, \"fta\": 97, \"ft_pct\": 0.753, \"oreb\": 31, \"dreb\": 70, \"reb\": 101, \"ast\": 63, \"stl\": 28, \"blk\": 22, \"tov\": 40, \"pf\": 42, \"pts\": 425}, {\"player_id\": 1460, \"season_id\": \"1987-88\", \"league_id\": \"00\", \"team_id\": 1610612747, \"team_abbreviation\": \"LAL\", \"player_age\": 27.0, \"gp\": 24, \"gs\": 24.0, \"min\": 896.0, \"fgm\": 204, \"fga\": 390, \"fg_pct\": 0.523, \"fg3m\": 1.0, \"fg3a\": 9.0, \"fg3_pct\": 0.111, \"ftm\": 97, \"fta\": 128, \"ft_pct\": 0.758, \"oreb\": 53, \"dreb\": 86, \"reb\": 139, \"ast\": 106, \"stl\": 33, \"blk\": 19, \"tov\": 55, \"pf\": 58, \"pts\": 506}, {\"player_id\": 1460, \"season_id\": \"1988-89\", \"league_id\": \"00\", \"team_id\": 1610612747, \"team_abbreviation\": \"LAL\", \"player_age\": 28.0, \"gp\": 15, \"gs\": 15.0, \"min\": 600.0, \"fgm\": 153, \"fga\": 270, \"fg_pct\": 0.567, \"fg3m\": 3.0, \"fg3a\": 8.0, \"fg3_pct\": 0.375, \"ftm\": 63, \"fta\": 80, \"ft_pct\": 0.788, \"oreb\": 37, \"dreb\": 64, \"reb\": 101, \"ast\": 42, \"stl\": 18, \"blk\": 16, \"tov\": 33, \"pf\": 36, \"pts\": 372}, {\"player_id\": 1460, \"season_id\": \"1989-90\", \"league_id\": \"00\", \"team_id\": 1610612747, \"team_abbreviation\": \"LAL\", \"player_age\": 29.0, \"gp\": 9, \"gs\": 9.0, \"min\": 366.0, \"fgm\": 90, \"fga\": 181, \"fg_pct\": 0.497, \"fg3m\": 2.0, \"fg3a\": 8.0, \"fg3_pct\": 0.25, \"ftm\": 36, \"fta\": 43, \"ft_pct\": 0.837, \"oreb\": 11, \"dreb\": 39, \"reb\": 50, \"ast\": 27, \"stl\": 14, \"blk\": 3, \"tov\": 22, \"pf\": 18, \"pts\": 218}, {\"player_id\": 1460, \"season_id\": \"1990-91\", \"league_id\": \"00\", \"team_id\": 1610612747, \"team_abbreviation\": \"LAL\", \"player_age\": 30.0, \"gp\": 18, \"gs\": 18.0, \"min\": 733.0, \"fgm\": 161, \"fga\": 346, \"fg_pct\": 0.465, \"fg3m\": 4.0, \"fg3a\": 24.0, \"fg3_pct\": 0.167, \"ftm\": 53, \"fta\": 72, \"ft_pct\": 0.736, \"oreb\": 25, \"dreb\": 48, \"reb\": 73, \"ast\": 70, \"stl\": 19, \"blk\": 2, \"tov\": 40, \"pf\": 34, \"pts\": 379}, {\"player_id\": 1460, \"season_id\": \"1992-93\", \"league_id\": \"00\", \"team_id\": 1610612747, \"team_abbreviation\": \"LAL\", \"player_age\": 32.0, \"gp\": 5, \"gs\": 0.0, \"min\": 148.0, \"fgm\": 32, \"fga\": 86, \"fg_pct\": 0.372, \"fg3m\": 2.0, \"fg3a\": 8.0, \"fg3_pct\": 0.25, \"ftm\": 3, \"fta\": 5, \"ft_pct\": 0.6, \"oreb\": 7, \"dreb\": 10, \"reb\": 17, \"ast\": 13, \"stl\": 5, \"blk\": 0, \"tov\": 7, \"pf\": 11, \"pts\": 69}, {\"player_id\": 1472, \"season_id\": \"1983-84\", \"league_id\": \"00\", \"team_id\": 1610612760, \"team_abbreviation\": \"SEA\", \"player_age\": 25.0, \"gp\": 5, \"gs\": 5.0, \"min\": 191.0, \"fgm\": 28, \"fga\": 59, \"fg_pct\": 0.475, \"fg3m\": 0.0, \"fg3a\": 1.0, \"fg3_pct\": 0.0, \"ftm\": 12, \"fta\": 18, \"ft_pct\": 0.667, \"oreb\": 4, \"dreb\": 29, \"reb\": 33, \"ast\": 8, \"stl\": 5, \"blk\": 3, \"tov\": 9, \"pf\": 23, \"pts\": 68}, {\"player_id\": 1472, \"season_id\": \"1986-87\", \"league_id\": \"00\", \"team_id\": 1610612760, \"team_abbreviation\": \"SEA\", \"player_age\": 28.0, \"gp\": 14, \"gs\": 14.0, \"min\": 498.0, \"fgm\": 118, \"fga\": 263, \"fg_pct\": 0.449, \"fg3m\": 6.0, \"fg3a\": 18.0, \"fg3_pct\": 0.333, \"ftm\": 80, \"fta\": 99, \"ft_pct\": 0.808, \"oreb\": 32, \"dreb\": 58, \"reb\": 90, \"ast\": 32, \"stl\": 12, \"blk\": 13, \"tov\": 34, \"pf\": 51, \"pts\": 322}, {\"player_id\": 1472, \"season_id\": \"1987-88\", \"league_id\": \"00\", \"team_id\": 1610612760, \"team_abbreviation\": \"SEA\", \"player_age\": 29.0, \"gp\": 5, \"gs\": 5.0, \"min\": 168.0, \"fgm\": 50, \"fga\": 91, \"fg_pct\": 0.549, \"fg3m\": 0.0, \"fg3a\": 2.0, \"fg3_pct\": 0.0, \"ftm\": 29, \"fta\": 35, \"ft_pct\": 0.829, \"oreb\": 8, \"dreb\": 23, \"reb\": 31, \"ast\": 11, \"stl\": 3, \"blk\": 1, \"tov\": 13, \"pf\": 24, \"pts\": 129}]\n",
      "\n"
     ]
    }
   ],
   "source": [
    "import http.client\n",
    "\n",
    "conn = http.client.HTTPSConnection(\"nba-stats4.p.rapidapi.com\")\n",
    "\n",
    "headers = {\n",
    "    'x-rapidapi-key': \"f55066f14bmsh6d063729f06538bp10c53ejsn5f836a675052\",\n",
    "    'x-rapidapi-host': \"nba-stats4.p.rapidapi.com\"\n",
    "    }\n",
    "\n",
    "conn.request(\"GET\", \"/season_totals_post_season/?page=1&per_page=50\", headers=headers)\n",
    "\n",
    "res = conn.getresponse()\n",
    "data = res.read()\n",
    "\n",
    "print(data.decode(\"utf-8\"))"
   ]
  },
  {
   "cell_type": "code",
   "execution_count": 28,
   "metadata": {},
   "outputs": [],
   "source": []
  },
  {
   "cell_type": "code",
   "execution_count": 29,
   "metadata": {},
   "outputs": [
    {
     "ename": "AttributeError",
     "evalue": "'str' object has no attribute 'get'",
     "output_type": "error",
     "traceback": [
      "\u001b[0;31m---------------------------------------------------------------------------\u001b[0m",
      "\u001b[0;31mAttributeError\u001b[0m                            Traceback (most recent call last)",
      "\u001b[0;32m<ipython-input-29-a805034bdf28>\u001b[0m in \u001b[0;36m<module>\u001b[0;34m\u001b[0m\n\u001b[0;32m----> 1\u001b[0;31m \u001b[0md\u001b[0m\u001b[0;34m.\u001b[0m\u001b[0mget\u001b[0m\u001b[0;34m(\u001b[0m\u001b[0;34m\"player_id\"\u001b[0m\u001b[0;34m)\u001b[0m\u001b[0;34m\u001b[0m\u001b[0;34m\u001b[0m\u001b[0m\n\u001b[0m",
      "\u001b[0;31mAttributeError\u001b[0m: 'str' object has no attribute 'get'"
     ]
    }
   ],
   "source": []
  },
  {
   "cell_type": "code",
   "execution_count": null,
   "metadata": {},
   "outputs": [],
   "source": []
  },
  {
   "cell_type": "code",
   "execution_count": null,
   "metadata": {},
   "outputs": [],
   "source": []
  },
  {
   "cell_type": "code",
   "execution_count": 23,
   "metadata": {},
   "outputs": [
    {
     "name": "stdout",
     "output_type": "stream",
     "text": [
      "\n"
     ]
    }
   ],
   "source": [
    "import requests\n",
    "\n",
    "url = \"https://free-nba.p.rapidapi.com/players/%7Bid%7D\"\n",
    "\n",
    "headers = {\n",
    "    'x-rapidapi-key': \"f55066f14bmsh6d063729f06538bp10c53ejsn5f836a675052\",\n",
    "    'x-rapidapi-host': \"free-nba.p.rapidapi.com\"\n",
    "    }\n",
    "\n",
    "response = requests.request(\"GET\", url, headers=headers)\n",
    "\n",
    "print(response.text)"
   ]
  },
  {
   "cell_type": "code",
   "execution_count": 30,
   "metadata": {},
   "outputs": [
    {
     "ename": "IndexError",
     "evalue": "string index out of range",
     "output_type": "error",
     "traceback": [
      "\u001b[0;31m---------------------------------------------------------------------------\u001b[0m",
      "\u001b[0;31mIndexError\u001b[0m                                Traceback (most recent call last)",
      "\u001b[0;32m<ipython-input-30-6488ad8222d9>\u001b[0m in \u001b[0;36m<module>\u001b[0;34m\u001b[0m\n\u001b[0;32m----> 1\u001b[0;31m \u001b[0mresponse\u001b[0m\u001b[0;34m.\u001b[0m\u001b[0mtext\u001b[0m\u001b[0;34m[\u001b[0m\u001b[0;36m1\u001b[0m\u001b[0;34m]\u001b[0m\u001b[0;34m\u001b[0m\u001b[0;34m\u001b[0m\u001b[0m\n\u001b[0m",
      "\u001b[0;31mIndexError\u001b[0m: string index out of range"
     ]
    }
   ],
   "source": []
  },
  {
   "cell_type": "code",
   "execution_count": null,
   "metadata": {},
   "outputs": [],
   "source": []
  }
 ],
 "metadata": {
  "kernelspec": {
   "display_name": "Python 3",
   "language": "python",
   "name": "python3"
  },
  "language_info": {
   "codemirror_mode": {
    "name": "ipython",
    "version": 3
   },
   "file_extension": ".py",
   "mimetype": "text/x-python",
   "name": "python",
   "nbconvert_exporter": "python",
   "pygments_lexer": "ipython3",
   "version": "3.9.0"
  }
 },
 "nbformat": 4,
 "nbformat_minor": 4
}
