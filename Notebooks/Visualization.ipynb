{
 "cells": [
  {
   "cell_type": "code",
   "execution_count": 516,
   "metadata": {},
   "outputs": [],
   "source": [
    "from matplotlib import pyplot as plt\n",
    "import seaborn as sns\n",
    "import numpy as np\n",
    "import pandas as pd"
   ]
  },
  {
   "cell_type": "code",
   "execution_count": 495,
   "metadata": {},
   "outputs": [],
   "source": [
    "regular_season = pd.read_csv(\"../Data/nba_2020_shooting.csv\", index_col=0)"
   ]
  },
  {
   "cell_type": "code",
   "execution_count": 496,
   "metadata": {},
   "outputs": [],
   "source": [
    "post_season = pd.read_csv(\"../Data/nba_2020_shooting_playoffs.csv\", index_col=0)"
   ]
  },
  {
   "cell_type": "code",
   "execution_count": 497,
   "metadata": {},
   "outputs": [
    {
     "data": {
      "text/html": [
       "<div>\n",
       "<style scoped>\n",
       "    .dataframe tbody tr th:only-of-type {\n",
       "        vertical-align: middle;\n",
       "    }\n",
       "\n",
       "    .dataframe tbody tr th {\n",
       "        vertical-align: top;\n",
       "    }\n",
       "\n",
       "    .dataframe thead th {\n",
       "        text-align: right;\n",
       "    }\n",
       "</style>\n",
       "<table border=\"1\" class=\"dataframe\">\n",
       "  <thead>\n",
       "    <tr style=\"text-align: right;\">\n",
       "      <th></th>\n",
       "      <th>Name</th>\n",
       "      <th>FG%</th>\n",
       "      <th>2P FG%</th>\n",
       "      <th>3P FG%</th>\n",
       "    </tr>\n",
       "  </thead>\n",
       "  <tbody>\n",
       "  </tbody>\n",
       "</table>\n",
       "</div>"
      ],
      "text/plain": [
       "Empty DataFrame\n",
       "Columns: [Name, FG%, 2P FG%, 3P FG%]\n",
       "Index: []"
      ]
     },
     "execution_count": 497,
     "metadata": {},
     "output_type": "execute_result"
    }
   ],
   "source": [
    "post_season[post_season[\"Name\"] == \"Luka Doncic\"]"
   ]
  },
  {
   "cell_type": "code",
   "execution_count": 522,
   "metadata": {},
   "outputs": [
    {
     "data": {
      "text/html": [
       "<div>\n",
       "<style scoped>\n",
       "    .dataframe tbody tr th:only-of-type {\n",
       "        vertical-align: middle;\n",
       "    }\n",
       "\n",
       "    .dataframe tbody tr th {\n",
       "        vertical-align: top;\n",
       "    }\n",
       "\n",
       "    .dataframe thead th {\n",
       "        text-align: right;\n",
       "    }\n",
       "</style>\n",
       "<table border=\"1\" class=\"dataframe\">\n",
       "  <thead>\n",
       "    <tr style=\"text-align: right;\">\n",
       "      <th></th>\n",
       "      <th>Player</th>\n",
       "      <th>Pos</th>\n",
       "      <th>Age</th>\n",
       "      <th>Tm</th>\n",
       "      <th>G</th>\n",
       "      <th>FG%</th>\n",
       "      <th>2P FG%</th>\n",
       "      <th>3P FG%</th>\n",
       "    </tr>\n",
       "  </thead>\n",
       "  <tbody>\n",
       "    <tr>\n",
       "      <th>183</th>\n",
       "      <td>Marc Gasol</td>\n",
       "      <td>C</td>\n",
       "      <td>35</td>\n",
       "      <td>TOR</td>\n",
       "      <td>44</td>\n",
       "      <td>0.427</td>\n",
       "      <td>0.473</td>\n",
       "      <td>0.385</td>\n",
       "    </tr>\n",
       "  </tbody>\n",
       "</table>\n",
       "</div>"
      ],
      "text/plain": [
       "         Player Pos  Age   Tm   G    FG%  2P FG%  3P FG%\n",
       "183  Marc Gasol   C   35  TOR  44  0.427   0.473   0.385"
      ]
     },
     "execution_count": 522,
     "metadata": {},
     "output_type": "execute_result"
    }
   ],
   "source": [
    "regular_season[regular_season[\"Player\"] == \"Marc Gasol\"]"
   ]
  },
  {
   "cell_type": "code",
   "execution_count": 499,
   "metadata": {},
   "outputs": [],
   "source": [
    "def plot_regular_season(choice):\n",
    "    Index_label_r = regular_season[regular_season[\"Player\"] == choice].index\n",
    "    row_r = regular_season.index[Index_label_r].values\n",
    "    fg_r = (regular_season[\"FG%\"][row_r[0]])\n",
    "    fg2_r =(regular_season[\"2P FG%\"][row_r[0]])\n",
    "    fg3_r = (regular_season[\"3P FG%\"][row_r[0]])\n",
    "    names_regular = [\"FG%\", \"2P FG%\", \"3P FG%\"]\n",
    "    values_regular = [fg_r, fg2_r, fg3_r]\n",
    "    axes = plt.gca()\n",
    "    plt.scatter(x = names_regular, y = values_regular, alpha=0.5, color=\"r\", label = \"Regular Season\")\n",
    "    "
   ]
  },
  {
   "cell_type": "code",
   "execution_count": 500,
   "metadata": {},
   "outputs": [],
   "source": [
    "def plot_post_season(choice):\n",
    "    Index_label_p = post_season[post_season[\"Name\"] == choice].index\n",
    "    row_p = post_season.index[Index_label_p].values\n",
    "    fg_p = (post_season[\"FG%\"][row_p[0]])\n",
    "    fg2_p =(post_season[\"2P FG%\"][row_p[0]])\n",
    "    fg3_p = (post_season[\"3P FG%\"][row_p[0]])\n",
    "    names_post = [\"FG%\", \"2P FG%\", \"3P FG%\"]\n",
    "    values_post = [fg_p, fg2_p, fg3_p]\n",
    "    axes = plt.gca()\n",
    "    plt.scatter(x = names_post, y = values_post, alpha=0.5, color=\"b\", label = \"Post Season\")"
   ]
  },
  {
   "cell_type": "code",
   "execution_count": 501,
   "metadata": {},
   "outputs": [],
   "source": [
    "#OPCIÓN 1\n",
    "def comparison_player(choice):\n",
    "    plot1 = plot_regular_season(choice)\n",
    "    plot2 = plot_post_season(choice)\n",
    "    plt.legend()\n",
    "    plt.title(choice)\n"
   ]
  },
  {
   "cell_type": "code",
   "execution_count": 502,
   "metadata": {},
   "outputs": [
    {
     "data": {
      "image/png": "[encoded data removed]",
      "text/plain": [
       "<Figure size 432x288 with 1 Axes>"
      ]
     },
     "metadata": {
      "needs_background": "light"
     },
     "output_type": "display_data"
    }
   ],
   "source": [
    "comparison_player(\"LeBron James\")"
   ]
  },
  {
   "cell_type": "code",
   "execution_count": 503,
   "metadata": {},
   "outputs": [],
   "source": [
    "def plot_regular_season1(choice):\n",
    "    Index_label_r = regular_season[regular_season[\"Player\"] == choice].index\n",
    "    row_r = regular_season.index[Index_label_r].values\n",
    "    fg_r = (regular_season[\"FG%\"][row_r[0]])\n",
    "    fg2_r =(regular_season[\"2P FG%\"][row_r[0]])\n",
    "    fg3_r = (regular_season[\"3P FG%\"][row_r[0]])\n",
    "    names_regular = [\"FG%\", \"2P FG%\", \"3P FG%\"]\n",
    "    values_regular = [fg_r, fg2_r, fg3_r]\n",
    "    axes = plt.gca()\n",
    "    axes.set_ylim((0, 1))\n",
    "    plt.bar(x = names_regular, height = values_regular, alpha=0.5, color=\"c\", label = \"Regular Season\")"
   ]
  },
  {
   "cell_type": "code",
   "execution_count": 504,
   "metadata": {},
   "outputs": [
    {
     "data": {
      "image/png": "[encoded data removed]",
      "text/plain": [
       "<Figure size 432x288 with 1 Axes>"
      ]
     },
     "metadata": {
      "needs_background": "light"
     },
     "output_type": "display_data"
    }
   ],
   "source": [
    "plot_regular_season1(\"Ja Morant\")"
   ]
  },
  {
   "cell_type": "code",
   "execution_count": 505,
   "metadata": {},
   "outputs": [],
   "source": [
    "def plot_post_season1(choice):\n",
    "    Index_label_p = post_season[post_season[\"Name\"] == choice].index\n",
    "    row_p = post_season.index[Index_label_p].values\n",
    "    fg_p = (post_season[\"FG%\"][row_p[0]])\n",
    "    fg2_p =(post_season[\"2P FG%\"][row_p[0]])\n",
    "    fg3_p = (post_season[\"3P FG%\"][row_p[0]])\n",
    "    names_post = [\"FG%\", \"2P FG%\", \"3P FG%\"]\n",
    "    values_post = [fg_p, fg2_p, fg3_p]\n",
    "    axes = plt.gca()\n",
    "    axes.set_ylim((0, 1))\n",
    "    plt.bar(x = names_post, height = values_post, alpha=0.5, color=\"g\", label = \"Post Season\")"
   ]
  },
  {
   "cell_type": "code",
   "execution_count": 506,
   "metadata": {},
   "outputs": [],
   "source": [
    "#OPCIÓN 2\n",
    "def comparison_player1(choice):\n",
    "    plot1 = plot_regular_season1(choice)\n",
    "    plot2 = plot_post_season1(choice) \n",
    "    plt.title(choice)"
   ]
  },
  {
   "cell_type": "code",
   "execution_count": 507,
   "metadata": {},
   "outputs": [
    {
     "data": {
      "image/png": "[encoded data removed]",
      "text/plain": [
       "<Figure size 432x288 with 1 Axes>"
      ]
     },
     "metadata": {
      "needs_background": "light"
     },
     "output_type": "display_data"
    }
   ],
   "source": [
    "comparison_player1(\"Marc Gasol\")"
   ]
  },
  {
   "cell_type": "code",
   "execution_count": 508,
   "metadata": {},
   "outputs": [],
   "source": [
    "#OPCIÓN 3\n",
    "def comparison_player2(choice):\n",
    "    Index_label_p = post_season[post_season[\"Name\"] == choice].index\n",
    "    row_p = post_season.index[Index_label_p].values\n",
    "    fg_p = (post_season[\"FG%\"][row_p[0]])\n",
    "    fg2_p =(post_season[\"2P FG%\"][row_p[0]])\n",
    "    fg3_p = (post_season[\"3P FG%\"][row_p[0]])\n",
    "    Index_label_r = regular_season[regular_season[\"Player\"] == choice].index\n",
    "    row_r = regular_season.index[Index_label_r].values\n",
    "    fg_r = (regular_season[\"FG%\"][row_r[0]])\n",
    "    fg2_r =(regular_season[\"2P FG%\"][row_r[0]])\n",
    "    fg3_r = (regular_season[\"3P FG%\"][row_r[0]])\n",
    "\n",
    "    # set width of bar \n",
    "    barWidth = 0.25\n",
    "    fig = plt.subplots(figsize =(12, 8)) \n",
    "\n",
    "    # set height of bar \n",
    "    data1 = [fg_r, fg2_r, fg3_r]\n",
    "    data2 = [fg_p, fg2_p, fg3_p]\n",
    "\n",
    "    # Set position of bar on X axis \n",
    "    br1 = np.arange(len(data1)) \n",
    "    br2 = [x + barWidth for x in br1] \n",
    "    br3 = [x + barWidth for x in br2] \n",
    "\n",
    "    # Make the plot \n",
    "    plt.bar(br1, data1, color ='r', width = barWidth, \n",
    "            edgecolor ='grey', label ='Regular Season') \n",
    "    plt.bar(br2, data2, color ='g', width = barWidth, \n",
    "            edgecolor ='grey', label ='Post Season')\n",
    "    plt.legend()\n",
    "\n",
    "    # Adding Xticks  \n",
    "    plt.xlabel('Type of Shot', fontweight ='bold') \n",
    "    plt.ylabel(\"Shooting%\", fontweight ='bold') \n",
    "    plt.xticks([r + barWidth for r in range(len(data1))], \n",
    "               ['FG%', '2P FG%', '3P FG%']) "
   ]
  },
  {
   "cell_type": "code",
   "execution_count": 509,
   "metadata": {},
   "outputs": [
    {
     "data": {
      "image/png": "[encoded data removed]",
      "text/plain": [
       "<Figure size 864x576 with 1 Axes>"
      ]
     },
     "metadata": {
      "needs_background": "light"
     },
     "output_type": "display_data"
    }
   ],
   "source": [
    "comparison_player2(\"Anthony Davis\")"
   ]
  },
  {
   "cell_type": "code",
   "execution_count": 510,
   "metadata": {},
   "outputs": [],
   "source": [
    "def comparison_two_player_regular (player1, player2):\n",
    "    #1er Jugador\n",
    "    Index_label_r1 = regular_season[regular_season[\"Player\"] == player1].index\n",
    "    row_r1 = regular_season.index[Index_label_r1].values\n",
    "    fg_r1 = (regular_season[\"FG%\"][row_r1[0]])\n",
    "    fg2_r1 =(regular_season[\"2P FG%\"][row_r1[0]])\n",
    "    fg3_r1 = (regular_season[\"3P FG%\"][row_r1[0]])\n",
    "    #2do Jugador\n",
    "    Index_label_r2 = regular_season[regular_season[\"Player\"] == player2].index\n",
    "    row_r2 = regular_season.index[Index_label_r2].values\n",
    "    fg_r2 = (regular_season[\"FG%\"][row_r2[0]])\n",
    "    fg2_r2 =(regular_season[\"2P FG%\"][row_r2[0]])\n",
    "    fg3_r2 = (regular_season[\"3P FG%\"][row_r2[0]])\n",
    "    # set width of bar \n",
    "    barWidth = 0.25\n",
    "    fig = plt.subplots(figsize =(12, 8)) \n",
    "    # set height of bar \n",
    "    data1 = [fg_r1, fg2_r1, fg3_r1]\n",
    "    data2 = [fg_r2, fg2_r2, fg3_r2]\n",
    "        # Set position of bar on X axis \n",
    "    br1 = np.arange(len(data1)) \n",
    "    br2 = [x + barWidth for x in br1] \n",
    "    br3 = [x + barWidth for x in br2] \n",
    "\n",
    "    # Make the plot \n",
    "    plt.bar(br1, data1, color ='r', width = barWidth, \n",
    "            edgecolor ='grey', label =player1) \n",
    "    plt.bar(br2, data2, color ='g', width = barWidth, \n",
    "            edgecolor ='grey', label =player2)\n",
    "    plt.legend()\n",
    "\n",
    "    # Adding Xticks  \n",
    "    plt.xlabel('Type of Shot', fontweight ='bold') \n",
    "    plt.ylabel(\"Shooting%\", fontweight ='bold') \n",
    "    plt.xticks([r + barWidth for r in range(len(data1))], \n",
    "               ['FG%', '2P FG%', '3P FG%']) \n",
    "    "
   ]
  },
  {
   "cell_type": "code",
   "execution_count": 511,
   "metadata": {},
   "outputs": [
    {
     "data": {
      "image/png": "[encoded data removed]",
      "text/plain": [
       "<Figure size 864x576 with 1 Axes>"
      ]
     },
     "metadata": {
      "needs_background": "light"
     },
     "output_type": "display_data"
    }
   ],
   "source": [
    "comparison_two_player2(\"LeBron James\", \"Alex Caruso\")"
   ]
  },
  {
   "cell_type": "code",
   "execution_count": 512,
   "metadata": {},
   "outputs": [],
   "source": [
    "def comparison_two_player_post (player1, player2):\n",
    "    #1er Jugador\n",
    "    Index_label_p1 = post_season[post_season[\"Name\"] == player1].index\n",
    "    row_p1 = post_season.index[Index_label_p1].values\n",
    "    fg_p1 = (post_season[\"FG%\"][row_p1[0]])\n",
    "    fg2_p1 =(post_season[\"2P FG%\"][row_p1[0]])\n",
    "    fg3_p1 = (post_season[\"3P FG%\"][row_p1[0]])\n",
    "    #2do Jugador\n",
    "    Index_label_p2 = post_season[post_season[\"Name\"] == player2].index\n",
    "    row_p2 = post_season.index[Index_label_p2].values\n",
    "    fg_p2 = (post_season[\"FG%\"][row_p2[0]])\n",
    "    fg2_p2 =(post_season[\"2P FG%\"][row_p2[0]])\n",
    "    fg3_p2 = (post_season[\"3P FG%\"][row_p2[0]])\n",
    "    # set width of bar \n",
    "    barWidth = 0.25\n",
    "    fig = plt.subplots(figsize =(12, 8)) \n",
    "    # set height of bar \n",
    "    data1 = [fg_p1, fg2_p1, fg3_p1]\n",
    "    data2 = [fg_p2, fg2_p2, fg3_p2]\n",
    "        # Set position of bar on X axis \n",
    "    br1 = np.arange(len(data1)) \n",
    "    br2 = [x + barWidth for x in br1] \n",
    "    br3 = [x + barWidth for x in br2] \n",
    "\n",
    "    # Make the plot \n",
    "    plt.bar(br1, data1, color ='r', width = barWidth, \n",
    "            edgecolor ='grey', label =player1) \n",
    "    plt.bar(br2, data2, color ='g', width = barWidth, \n",
    "            edgecolor ='grey', label =player2)\n",
    "    plt.legend()\n",
    "\n",
    "    # Adding Xticks  \n",
    "    plt.xlabel('Type of Shot', fontweight ='bold') \n",
    "    plt.ylabel(\"Shooting%\", fontweight ='bold') \n",
    "    plt.xticks([r + barWidth for r in range(len(data1))], \n",
    "               ['FG%', '2P FG%', '3P FG%']) "
   ]
  },
  {
   "cell_type": "code",
   "execution_count": 513,
   "metadata": {},
   "outputs": [
    {
     "data": {
      "image/png": "[encoded data removed]",
      "text/plain": [
       "<Figure size 864x576 with 1 Axes>"
      ]
     },
     "metadata": {
      "needs_background": "light"
     },
     "output_type": "display_data"
    }
   ],
   "source": [
    "comparison_two_player_post(\"LeBron James\", \"Alex Caruso\")"
   ]
  },
  {
   "cell_type": "code",
   "execution_count": null,
   "metadata": {},
   "outputs": [],
   "source": [
    "#PRUEBAS"
   ]
  },
  {
   "cell_type": "code",
   "execution_count": 576,
   "metadata": {},
   "outputs": [],
   "source": [
    "regular_season[\"playoff player\"] = post_season[\"Name\"]"
   ]
  },
  {
   "cell_type": "code",
   "execution_count": 577,
   "metadata": {},
   "outputs": [
    {
     "data": {
      "text/html": [
       "<div>\n",
       "<style scoped>\n",
       "    .dataframe tbody tr th:only-of-type {\n",
       "        vertical-align: middle;\n",
       "    }\n",
       "\n",
       "    .dataframe tbody tr th {\n",
       "        vertical-align: top;\n",
       "    }\n",
       "\n",
       "    .dataframe thead th {\n",
       "        text-align: right;\n",
       "    }\n",
       "</style>\n",
       "<table border=\"1\" class=\"dataframe\">\n",
       "  <thead>\n",
       "    <tr style=\"text-align: right;\">\n",
       "      <th></th>\n",
       "      <th>Player</th>\n",
       "      <th>Pos</th>\n",
       "      <th>Age</th>\n",
       "      <th>Tm</th>\n",
       "      <th>G</th>\n",
       "      <th>FG%</th>\n",
       "      <th>2P FG%</th>\n",
       "      <th>3P FG%</th>\n",
       "      <th>playoff player</th>\n",
       "    </tr>\n",
       "  </thead>\n",
       "  <tbody>\n",
       "    <tr>\n",
       "      <th>0</th>\n",
       "      <td>Steven Adams</td>\n",
       "      <td>C</td>\n",
       "      <td>26</td>\n",
       "      <td>OKC</td>\n",
       "      <td>63</td>\n",
       "      <td>0.592</td>\n",
       "      <td>0.594</td>\n",
       "      <td>0.333</td>\n",
       "      <td>Jaylen Adams</td>\n",
       "    </tr>\n",
       "    <tr>\n",
       "      <th>1</th>\n",
       "      <td>Bam Adebayo</td>\n",
       "      <td>PF</td>\n",
       "      <td>22</td>\n",
       "      <td>MIA</td>\n",
       "      <td>72</td>\n",
       "      <td>0.557</td>\n",
       "      <td>0.564</td>\n",
       "      <td>0.143</td>\n",
       "      <td>Steven Adams</td>\n",
       "    </tr>\n",
       "    <tr>\n",
       "      <th>2</th>\n",
       "      <td>LaMarcus Aldridge</td>\n",
       "      <td>C</td>\n",
       "      <td>34</td>\n",
       "      <td>SAS</td>\n",
       "      <td>53</td>\n",
       "      <td>0.493</td>\n",
       "      <td>0.519</td>\n",
       "      <td>0.389</td>\n",
       "      <td>Bam Adebayo</td>\n",
       "    </tr>\n",
       "    <tr>\n",
       "      <th>3</th>\n",
       "      <td>Nickeil Alexander-Walker</td>\n",
       "      <td>SG</td>\n",
       "      <td>21</td>\n",
       "      <td>NOP</td>\n",
       "      <td>47</td>\n",
       "      <td>0.368</td>\n",
       "      <td>0.391</td>\n",
       "      <td>0.346</td>\n",
       "      <td>Jarrett Allen</td>\n",
       "    </tr>\n",
       "    <tr>\n",
       "      <th>4</th>\n",
       "      <td>Grayson Allen</td>\n",
       "      <td>SG</td>\n",
       "      <td>24</td>\n",
       "      <td>MEM</td>\n",
       "      <td>38</td>\n",
       "      <td>0.466</td>\n",
       "      <td>0.545</td>\n",
       "      <td>0.404</td>\n",
       "      <td>Justin Anderson</td>\n",
       "    </tr>\n",
       "    <tr>\n",
       "      <th>...</th>\n",
       "      <td>...</td>\n",
       "      <td>...</td>\n",
       "      <td>...</td>\n",
       "      <td>...</td>\n",
       "      <td>...</td>\n",
       "      <td>...</td>\n",
       "      <td>...</td>\n",
       "      <td>...</td>\n",
       "      <td>...</td>\n",
       "    </tr>\n",
       "    <tr>\n",
       "      <th>525</th>\n",
       "      <td>Delon Wright</td>\n",
       "      <td>SG</td>\n",
       "      <td>27</td>\n",
       "      <td>DAL</td>\n",
       "      <td>73</td>\n",
       "      <td>0.462</td>\n",
       "      <td>0.504</td>\n",
       "      <td>0.370</td>\n",
       "      <td>NaN</td>\n",
       "    </tr>\n",
       "    <tr>\n",
       "      <th>526</th>\n",
       "      <td>Thaddeus Young</td>\n",
       "      <td>PF</td>\n",
       "      <td>31</td>\n",
       "      <td>CHI</td>\n",
       "      <td>64</td>\n",
       "      <td>0.448</td>\n",
       "      <td>0.501</td>\n",
       "      <td>0.356</td>\n",
       "      <td>NaN</td>\n",
       "    </tr>\n",
       "    <tr>\n",
       "      <th>527</th>\n",
       "      <td>Trae Young</td>\n",
       "      <td>PG</td>\n",
       "      <td>21</td>\n",
       "      <td>ATL</td>\n",
       "      <td>60</td>\n",
       "      <td>0.437</td>\n",
       "      <td>0.501</td>\n",
       "      <td>0.361</td>\n",
       "      <td>NaN</td>\n",
       "    </tr>\n",
       "    <tr>\n",
       "      <th>528</th>\n",
       "      <td>Cody Zeller</td>\n",
       "      <td>C</td>\n",
       "      <td>27</td>\n",
       "      <td>CHO</td>\n",
       "      <td>58</td>\n",
       "      <td>0.524</td>\n",
       "      <td>0.577</td>\n",
       "      <td>0.240</td>\n",
       "      <td>NaN</td>\n",
       "    </tr>\n",
       "    <tr>\n",
       "      <th>529</th>\n",
       "      <td>Ivica Zubac</td>\n",
       "      <td>C</td>\n",
       "      <td>22</td>\n",
       "      <td>LAC</td>\n",
       "      <td>72</td>\n",
       "      <td>0.613</td>\n",
       "      <td>0.616</td>\n",
       "      <td>0.000</td>\n",
       "      <td>NaN</td>\n",
       "    </tr>\n",
       "  </tbody>\n",
       "</table>\n",
       "<p>530 rows × 9 columns</p>\n",
       "</div>"
      ],
      "text/plain": [
       "                       Player Pos  Age   Tm   G    FG%  2P FG%  3P FG%  \\\n",
       "0                Steven Adams   C   26  OKC  63  0.592   0.594   0.333   \n",
       "1                 Bam Adebayo  PF   22  MIA  72  0.557   0.564   0.143   \n",
       "2           LaMarcus Aldridge   C   34  SAS  53  0.493   0.519   0.389   \n",
       "3    Nickeil Alexander-Walker  SG   21  NOP  47  0.368   0.391   0.346   \n",
       "4               Grayson Allen  SG   24  MEM  38  0.466   0.545   0.404   \n",
       "..                        ...  ..  ...  ...  ..    ...     ...     ...   \n",
       "525              Delon Wright  SG   27  DAL  73  0.462   0.504   0.370   \n",
       "526            Thaddeus Young  PF   31  CHI  64  0.448   0.501   0.356   \n",
       "527                Trae Young  PG   21  ATL  60  0.437   0.501   0.361   \n",
       "528               Cody Zeller   C   27  CHO  58  0.524   0.577   0.240   \n",
       "529               Ivica Zubac   C   22  LAC  72  0.613   0.616   0.000   \n",
       "\n",
       "      playoff player  \n",
       "0       Jaylen Adams  \n",
       "1       Steven Adams  \n",
       "2        Bam Adebayo  \n",
       "3      Jarrett Allen  \n",
       "4    Justin Anderson  \n",
       "..               ...  \n",
       "525              NaN  \n",
       "526              NaN  \n",
       "527              NaN  \n",
       "528              NaN  \n",
       "529              NaN  \n",
       "\n",
       "[530 rows x 9 columns]"
      ]
     },
     "execution_count": 577,
     "metadata": {},
     "output_type": "execute_result"
    }
   ],
   "source": [
    "regular_season"
   ]
  },
  {
   "cell_type": "code",
   "execution_count": null,
   "metadata": {},
   "outputs": [],
   "source": []
  },
  {
   "cell_type": "code",
   "execution_count": 575,
   "metadata": {},
   "outputs": [
    {
     "ename": "ValueError",
     "evalue": "Can only compare identically-labeled Series objects",
     "output_type": "error",
     "traceback": [
      "\u001b[0;31m---------------------------------------------------------------------------\u001b[0m",
      "\u001b[0;31mValueError\u001b[0m                                Traceback (most recent call last)",
      "\u001b[0;32m<ipython-input-575-843eb75e956e>\u001b[0m in \u001b[0;36m<module>\u001b[0;34m\u001b[0m\n\u001b[0;32m----> 1\u001b[0;31m \u001b[0;32mif\u001b[0m \u001b[0mregular_season\u001b[0m\u001b[0;34m[\u001b[0m\u001b[0;34m\"Player\"\u001b[0m\u001b[0;34m]\u001b[0m \u001b[0;34m==\u001b[0m \u001b[0mpost_season\u001b[0m\u001b[0;34m[\u001b[0m\u001b[0;34m\"Name\"\u001b[0m\u001b[0;34m]\u001b[0m\u001b[0;34m:\u001b[0m\u001b[0;34m\u001b[0m\u001b[0;34m\u001b[0m\u001b[0m\n\u001b[0m\u001b[1;32m      2\u001b[0m     \u001b[0mprint\u001b[0m\u001b[0;34m(\u001b[0m\u001b[0;32mTrue\u001b[0m\u001b[0;34m)\u001b[0m\u001b[0;34m\u001b[0m\u001b[0;34m\u001b[0m\u001b[0m\n",
      "\u001b[0;32m/usr/local/lib/python3.9/site-packages/pandas/core/ops/common.py\u001b[0m in \u001b[0;36mnew_method\u001b[0;34m(self, other)\u001b[0m\n\u001b[1;32m     63\u001b[0m         \u001b[0mother\u001b[0m \u001b[0;34m=\u001b[0m \u001b[0mitem_from_zerodim\u001b[0m\u001b[0;34m(\u001b[0m\u001b[0mother\u001b[0m\u001b[0;34m)\u001b[0m\u001b[0;34m\u001b[0m\u001b[0;34m\u001b[0m\u001b[0m\n\u001b[1;32m     64\u001b[0m \u001b[0;34m\u001b[0m\u001b[0m\n\u001b[0;32m---> 65\u001b[0;31m         \u001b[0;32mreturn\u001b[0m \u001b[0mmethod\u001b[0m\u001b[0;34m(\u001b[0m\u001b[0mself\u001b[0m\u001b[0;34m,\u001b[0m \u001b[0mother\u001b[0m\u001b[0;34m)\u001b[0m\u001b[0;34m\u001b[0m\u001b[0;34m\u001b[0m\u001b[0m\n\u001b[0m\u001b[1;32m     66\u001b[0m \u001b[0;34m\u001b[0m\u001b[0m\n\u001b[1;32m     67\u001b[0m     \u001b[0;32mreturn\u001b[0m \u001b[0mnew_method\u001b[0m\u001b[0;34m\u001b[0m\u001b[0;34m\u001b[0m\u001b[0m\n",
      "\u001b[0;32m/usr/local/lib/python3.9/site-packages/pandas/core/ops/__init__.py\u001b[0m in \u001b[0;36mwrapper\u001b[0;34m(self, other)\u001b[0m\n\u001b[1;32m    363\u001b[0m \u001b[0;34m\u001b[0m\u001b[0m\n\u001b[1;32m    364\u001b[0m         \u001b[0;32mif\u001b[0m \u001b[0misinstance\u001b[0m\u001b[0;34m(\u001b[0m\u001b[0mother\u001b[0m\u001b[0;34m,\u001b[0m \u001b[0mABCSeries\u001b[0m\u001b[0;34m)\u001b[0m \u001b[0;32mand\u001b[0m \u001b[0;32mnot\u001b[0m \u001b[0mself\u001b[0m\u001b[0;34m.\u001b[0m\u001b[0m_indexed_same\u001b[0m\u001b[0;34m(\u001b[0m\u001b[0mother\u001b[0m\u001b[0;34m)\u001b[0m\u001b[0;34m:\u001b[0m\u001b[0;34m\u001b[0m\u001b[0;34m\u001b[0m\u001b[0m\n\u001b[0;32m--> 365\u001b[0;31m             \u001b[0;32mraise\u001b[0m \u001b[0mValueError\u001b[0m\u001b[0;34m(\u001b[0m\u001b[0;34m\"Can only compare identically-labeled Series objects\"\u001b[0m\u001b[0;34m)\u001b[0m\u001b[0;34m\u001b[0m\u001b[0;34m\u001b[0m\u001b[0m\n\u001b[0m\u001b[1;32m    366\u001b[0m \u001b[0;34m\u001b[0m\u001b[0m\n\u001b[1;32m    367\u001b[0m         \u001b[0mlvalues\u001b[0m \u001b[0;34m=\u001b[0m \u001b[0mextract_array\u001b[0m\u001b[0;34m(\u001b[0m\u001b[0mself\u001b[0m\u001b[0;34m,\u001b[0m \u001b[0mextract_numpy\u001b[0m\u001b[0;34m=\u001b[0m\u001b[0;32mTrue\u001b[0m\u001b[0;34m)\u001b[0m\u001b[0;34m\u001b[0m\u001b[0;34m\u001b[0m\u001b[0m\n",
      "\u001b[0;31mValueError\u001b[0m: Can only compare identically-labeled Series objects"
     ]
    }
   ],
   "source": [
    "if regular_season[\"Player\"] == post_season[\"Name\"]:\n",
    "    print(True)"
   ]
  },
  {
   "cell_type": "code",
   "execution_count": 573,
   "metadata": {},
   "outputs": [
    {
     "ename": "SyntaxError",
     "evalue": "invalid syntax (<ipython-input-573-3dbd584e315c>, line 1)",
     "output_type": "error",
     "traceback": [
      "\u001b[0;36m  File \u001b[0;32m\"<ipython-input-573-3dbd584e315c>\"\u001b[0;36m, line \u001b[0;32m1\u001b[0m\n\u001b[0;31m    df = regular_season.drop(regular_season[regular_season[\"Player\"] =! post_season[post_season[\"Name\"]]])\u001b[0m\n\u001b[0m                                                                     ^\u001b[0m\n\u001b[0;31mSyntaxError\u001b[0m\u001b[0;31m:\u001b[0m invalid syntax\n"
     ]
    }
   ],
   "source": [
    "df = regular_season.drop(regular_season[regular_season[\"Player\"] =! post_season[post_season[\"Name\"]]])"
   ]
  },
  {
   "cell_type": "code",
   "execution_count": null,
   "metadata": {},
   "outputs": [],
   "source": []
  },
  {
   "cell_type": "code",
   "execution_count": null,
   "metadata": {},
   "outputs": [],
   "source": []
  },
  {
   "cell_type": "code",
   "execution_count": null,
   "metadata": {},
   "outputs": [],
   "source": []
  },
  {
   "cell_type": "code",
   "execution_count": null,
   "metadata": {},
   "outputs": [],
   "source": []
  },
  {
   "cell_type": "code",
   "execution_count": null,
   "metadata": {},
   "outputs": [],
   "source": [
    "def plot_regular_season(choice):\n",
    "    Index_label_r = regular_season[regular_season[\"Tm\"] == choice].index\n",
    "    row_r = regular_season.index[Index_label_r].values\n",
    "    fg_r = (regular_season[\"FG%\"][row_r])\n",
    "    fg2_r =(regular_season[\"2P FG%\"][row_r[0]])\n",
    "    fg3_r = (regular_season[\"3P FG%\"][row_r[0]])\n",
    "    names_regular = [\"FG%\", \"2P FG%\", \"3P FG%\"]\n",
    "    values_regular = [fg_r, fg2_r, fg3_r]\n",
    "    axes = plt.gca()\n",
    "    plt.scatter(x = names_regular, y = values_regular, alpha=0.5, color=\"r\", label = \"Regular Season\")\n",
    "    \n",
    "def plot_post_season(choice):\n",
    "    Index_label_p = post_season[post_season[\"Name\"] == choice].index\n",
    "    row_p = post_season.index[Index_label_p].values\n",
    "    fg_p = (post_season[\"FG%\"][row_p[0]])\n",
    "    fg2_p =(post_season[\"2P FG%\"][row_p[0]])\n",
    "    fg3_p = (post_season[\"3P FG%\"][row_p[0]])\n",
    "    names_post = [\"FG%\", \"2P FG%\", \"3P FG%\"]\n",
    "    values_post = [fg_p, fg2_p, fg3_p]\n",
    "    axes = plt.gca()\n",
    "    plt.scatter(x = names_post, y = values_post, alpha=0.5, color=\"b\", label = \"Post Season\")\n",
    "\n",
    "def comparison_player(choice):\n",
    "    plot1 = plot_regular_season(choice)\n",
    "    plot2 = plot_post_season(choice)\n",
    "    plt.legend()\n",
    "    plt.title(choice)"
   ]
  },
  {
   "cell_type": "code",
   "execution_count": 563,
   "metadata": {},
   "outputs": [],
   "source": [
    "def plot_regular_season(choice):\n",
    "    Index_label_r = regular_season[regular_season[\"Tm\"] == choice].index\n",
    "    row_r = regular_season.index[Index_label_r].values\n",
    "    fg_r = (regular_season[\"FG%\"][row_r])\n",
    "    fg2_r =(regular_season[\"2P FG%\"][row_r])\n",
    "    fg3_r = (regular_season[\"3P FG%\"][row_r])\n",
    "    names_regular = [[\"FG%\"] *len(fg_r)*3, [\"2P FG%\"]*len(fg2_r)*3, [\"3P FG%\"]*len(fg3_r)*3]\n",
    "    values_regular = [fg_r, fg2_r, fg3_r]\n",
    "    axes = plt.gca()\n",
    "    plt.scatter(x = names_regular, y = values_regular, alpha=0.5, color=\"r\", label = \"Regular Season\")\n",
    "    "
   ]
  },
  {
   "cell_type": "code",
   "execution_count": 564,
   "metadata": {},
   "outputs": [
    {
     "ename": "ValueError",
     "evalue": "x and y must be the same size",
     "output_type": "error",
     "traceback": [
      "\u001b[0;31m---------------------------------------------------------------------------\u001b[0m",
      "\u001b[0;31mValueError\u001b[0m                                Traceback (most recent call last)",
      "\u001b[0;32m<ipython-input-564-8feefbc7bed1>\u001b[0m in \u001b[0;36m<module>\u001b[0;34m\u001b[0m\n\u001b[0;32m----> 1\u001b[0;31m \u001b[0mplot_regular_season\u001b[0m\u001b[0;34m(\u001b[0m\u001b[0;34m\"TOR\"\u001b[0m\u001b[0;34m)\u001b[0m\u001b[0;34m\u001b[0m\u001b[0;34m\u001b[0m\u001b[0m\n\u001b[0m",
      "\u001b[0;32m<ipython-input-563-b0ed619b9f6f>\u001b[0m in \u001b[0;36mplot_regular_season\u001b[0;34m(choice)\u001b[0m\n\u001b[1;32m      8\u001b[0m     \u001b[0mvalues_regular\u001b[0m \u001b[0;34m=\u001b[0m \u001b[0;34m[\u001b[0m\u001b[0mfg_r\u001b[0m\u001b[0;34m,\u001b[0m \u001b[0mfg2_r\u001b[0m\u001b[0;34m,\u001b[0m \u001b[0mfg3_r\u001b[0m\u001b[0;34m]\u001b[0m\u001b[0;34m\u001b[0m\u001b[0;34m\u001b[0m\u001b[0m\n\u001b[1;32m      9\u001b[0m     \u001b[0maxes\u001b[0m \u001b[0;34m=\u001b[0m \u001b[0mplt\u001b[0m\u001b[0;34m.\u001b[0m\u001b[0mgca\u001b[0m\u001b[0;34m(\u001b[0m\u001b[0;34m)\u001b[0m\u001b[0;34m\u001b[0m\u001b[0;34m\u001b[0m\u001b[0m\n\u001b[0;32m---> 10\u001b[0;31m     \u001b[0mplt\u001b[0m\u001b[0;34m.\u001b[0m\u001b[0mscatter\u001b[0m\u001b[0;34m(\u001b[0m\u001b[0mx\u001b[0m \u001b[0;34m=\u001b[0m \u001b[0mnames_regular\u001b[0m\u001b[0;34m,\u001b[0m \u001b[0my\u001b[0m \u001b[0;34m=\u001b[0m \u001b[0mvalues_regular\u001b[0m\u001b[0;34m,\u001b[0m \u001b[0malpha\u001b[0m\u001b[0;34m=\u001b[0m\u001b[0;36m0.5\u001b[0m\u001b[0;34m,\u001b[0m \u001b[0mcolor\u001b[0m\u001b[0;34m=\u001b[0m\u001b[0;34m\"r\"\u001b[0m\u001b[0;34m,\u001b[0m \u001b[0mlabel\u001b[0m \u001b[0;34m=\u001b[0m \u001b[0;34m\"Regular Season\"\u001b[0m\u001b[0;34m)\u001b[0m\u001b[0;34m\u001b[0m\u001b[0;34m\u001b[0m\u001b[0m\n\u001b[0m\u001b[1;32m     11\u001b[0m \u001b[0;34m\u001b[0m\u001b[0m\n",
      "\u001b[0;32m/usr/local/lib/python3.9/site-packages/matplotlib/pyplot.py\u001b[0m in \u001b[0;36mscatter\u001b[0;34m(x, y, s, c, marker, cmap, norm, vmin, vmax, alpha, linewidths, verts, edgecolors, plotnonfinite, data, **kwargs)\u001b[0m\n\u001b[1;32m   2888\u001b[0m         \u001b[0mverts\u001b[0m\u001b[0;34m=\u001b[0m\u001b[0mcbook\u001b[0m\u001b[0;34m.\u001b[0m\u001b[0mdeprecation\u001b[0m\u001b[0;34m.\u001b[0m\u001b[0m_deprecated_parameter\u001b[0m\u001b[0;34m,\u001b[0m\u001b[0;34m\u001b[0m\u001b[0;34m\u001b[0m\u001b[0m\n\u001b[1;32m   2889\u001b[0m         edgecolors=None, *, plotnonfinite=False, data=None, **kwargs):\n\u001b[0;32m-> 2890\u001b[0;31m     __ret = gca().scatter(\n\u001b[0m\u001b[1;32m   2891\u001b[0m         \u001b[0mx\u001b[0m\u001b[0;34m,\u001b[0m \u001b[0my\u001b[0m\u001b[0;34m,\u001b[0m \u001b[0ms\u001b[0m\u001b[0;34m=\u001b[0m\u001b[0ms\u001b[0m\u001b[0;34m,\u001b[0m \u001b[0mc\u001b[0m\u001b[0;34m=\u001b[0m\u001b[0mc\u001b[0m\u001b[0;34m,\u001b[0m \u001b[0mmarker\u001b[0m\u001b[0;34m=\u001b[0m\u001b[0mmarker\u001b[0m\u001b[0;34m,\u001b[0m \u001b[0mcmap\u001b[0m\u001b[0;34m=\u001b[0m\u001b[0mcmap\u001b[0m\u001b[0;34m,\u001b[0m \u001b[0mnorm\u001b[0m\u001b[0;34m=\u001b[0m\u001b[0mnorm\u001b[0m\u001b[0;34m,\u001b[0m\u001b[0;34m\u001b[0m\u001b[0;34m\u001b[0m\u001b[0m\n\u001b[1;32m   2892\u001b[0m         \u001b[0mvmin\u001b[0m\u001b[0;34m=\u001b[0m\u001b[0mvmin\u001b[0m\u001b[0;34m,\u001b[0m \u001b[0mvmax\u001b[0m\u001b[0;34m=\u001b[0m\u001b[0mvmax\u001b[0m\u001b[0;34m,\u001b[0m \u001b[0malpha\u001b[0m\u001b[0;34m=\u001b[0m\u001b[0malpha\u001b[0m\u001b[0;34m,\u001b[0m \u001b[0mlinewidths\u001b[0m\u001b[0;34m=\u001b[0m\u001b[0mlinewidths\u001b[0m\u001b[0;34m,\u001b[0m\u001b[0;34m\u001b[0m\u001b[0;34m\u001b[0m\u001b[0m\n",
      "\u001b[0;32m/usr/local/lib/python3.9/site-packages/matplotlib/__init__.py\u001b[0m in \u001b[0;36minner\u001b[0;34m(ax, data, *args, **kwargs)\u001b[0m\n\u001b[1;32m   1436\u001b[0m     \u001b[0;32mdef\u001b[0m \u001b[0minner\u001b[0m\u001b[0;34m(\u001b[0m\u001b[0max\u001b[0m\u001b[0;34m,\u001b[0m \u001b[0;34m*\u001b[0m\u001b[0margs\u001b[0m\u001b[0;34m,\u001b[0m \u001b[0mdata\u001b[0m\u001b[0;34m=\u001b[0m\u001b[0;32mNone\u001b[0m\u001b[0;34m,\u001b[0m \u001b[0;34m**\u001b[0m\u001b[0mkwargs\u001b[0m\u001b[0;34m)\u001b[0m\u001b[0;34m:\u001b[0m\u001b[0;34m\u001b[0m\u001b[0;34m\u001b[0m\u001b[0m\n\u001b[1;32m   1437\u001b[0m         \u001b[0;32mif\u001b[0m \u001b[0mdata\u001b[0m \u001b[0;32mis\u001b[0m \u001b[0;32mNone\u001b[0m\u001b[0;34m:\u001b[0m\u001b[0;34m\u001b[0m\u001b[0;34m\u001b[0m\u001b[0m\n\u001b[0;32m-> 1438\u001b[0;31m             \u001b[0;32mreturn\u001b[0m \u001b[0mfunc\u001b[0m\u001b[0;34m(\u001b[0m\u001b[0max\u001b[0m\u001b[0;34m,\u001b[0m \u001b[0;34m*\u001b[0m\u001b[0mmap\u001b[0m\u001b[0;34m(\u001b[0m\u001b[0msanitize_sequence\u001b[0m\u001b[0;34m,\u001b[0m \u001b[0margs\u001b[0m\u001b[0;34m)\u001b[0m\u001b[0;34m,\u001b[0m \u001b[0;34m**\u001b[0m\u001b[0mkwargs\u001b[0m\u001b[0;34m)\u001b[0m\u001b[0;34m\u001b[0m\u001b[0;34m\u001b[0m\u001b[0m\n\u001b[0m\u001b[1;32m   1439\u001b[0m \u001b[0;34m\u001b[0m\u001b[0m\n\u001b[1;32m   1440\u001b[0m         \u001b[0mbound\u001b[0m \u001b[0;34m=\u001b[0m \u001b[0mnew_sig\u001b[0m\u001b[0;34m.\u001b[0m\u001b[0mbind\u001b[0m\u001b[0;34m(\u001b[0m\u001b[0max\u001b[0m\u001b[0;34m,\u001b[0m \u001b[0;34m*\u001b[0m\u001b[0margs\u001b[0m\u001b[0;34m,\u001b[0m \u001b[0;34m**\u001b[0m\u001b[0mkwargs\u001b[0m\u001b[0;34m)\u001b[0m\u001b[0;34m\u001b[0m\u001b[0;34m\u001b[0m\u001b[0m\n",
      "\u001b[0;32m/usr/local/lib/python3.9/site-packages/matplotlib/cbook/deprecation.py\u001b[0m in \u001b[0;36mwrapper\u001b[0;34m(*inner_args, **inner_kwargs)\u001b[0m\n\u001b[1;32m    409\u001b[0m                          \u001b[0;32melse\u001b[0m \u001b[0mdeprecation_addendum\u001b[0m\u001b[0;34m,\u001b[0m\u001b[0;34m\u001b[0m\u001b[0;34m\u001b[0m\u001b[0m\n\u001b[1;32m    410\u001b[0m                 **kwargs)\n\u001b[0;32m--> 411\u001b[0;31m         \u001b[0;32mreturn\u001b[0m \u001b[0mfunc\u001b[0m\u001b[0;34m(\u001b[0m\u001b[0;34m*\u001b[0m\u001b[0minner_args\u001b[0m\u001b[0;34m,\u001b[0m \u001b[0;34m**\u001b[0m\u001b[0minner_kwargs\u001b[0m\u001b[0;34m)\u001b[0m\u001b[0;34m\u001b[0m\u001b[0;34m\u001b[0m\u001b[0m\n\u001b[0m\u001b[1;32m    412\u001b[0m \u001b[0;34m\u001b[0m\u001b[0m\n\u001b[1;32m    413\u001b[0m     \u001b[0;32mreturn\u001b[0m \u001b[0mwrapper\u001b[0m\u001b[0;34m\u001b[0m\u001b[0;34m\u001b[0m\u001b[0m\n",
      "\u001b[0;32m/usr/local/lib/python3.9/site-packages/matplotlib/axes/_axes.py\u001b[0m in \u001b[0;36mscatter\u001b[0;34m(self, x, y, s, c, marker, cmap, norm, vmin, vmax, alpha, linewidths, verts, edgecolors, plotnonfinite, **kwargs)\u001b[0m\n\u001b[1;32m   4439\u001b[0m         \u001b[0my\u001b[0m \u001b[0;34m=\u001b[0m \u001b[0mnp\u001b[0m\u001b[0;34m.\u001b[0m\u001b[0mma\u001b[0m\u001b[0;34m.\u001b[0m\u001b[0mravel\u001b[0m\u001b[0;34m(\u001b[0m\u001b[0my\u001b[0m\u001b[0;34m)\u001b[0m\u001b[0;34m\u001b[0m\u001b[0;34m\u001b[0m\u001b[0m\n\u001b[1;32m   4440\u001b[0m         \u001b[0;32mif\u001b[0m \u001b[0mx\u001b[0m\u001b[0;34m.\u001b[0m\u001b[0msize\u001b[0m \u001b[0;34m!=\u001b[0m \u001b[0my\u001b[0m\u001b[0;34m.\u001b[0m\u001b[0msize\u001b[0m\u001b[0;34m:\u001b[0m\u001b[0;34m\u001b[0m\u001b[0;34m\u001b[0m\u001b[0m\n\u001b[0;32m-> 4441\u001b[0;31m             \u001b[0;32mraise\u001b[0m \u001b[0mValueError\u001b[0m\u001b[0;34m(\u001b[0m\u001b[0;34m\"x and y must be the same size\"\u001b[0m\u001b[0;34m)\u001b[0m\u001b[0;34m\u001b[0m\u001b[0;34m\u001b[0m\u001b[0m\n\u001b[0m\u001b[1;32m   4442\u001b[0m \u001b[0;34m\u001b[0m\u001b[0m\n\u001b[1;32m   4443\u001b[0m         \u001b[0;32mif\u001b[0m \u001b[0ms\u001b[0m \u001b[0;32mis\u001b[0m \u001b[0;32mNone\u001b[0m\u001b[0;34m:\u001b[0m\u001b[0;34m\u001b[0m\u001b[0;34m\u001b[0m\u001b[0m\n",
      "\u001b[0;31mValueError\u001b[0m: x and y must be the same size"
     ]
    },
    {
     "data": {
      "image/png": "[encoded data removed]",
      "text/plain": [
       "<Figure size 432x288 with 1 Axes>"
      ]
     },
     "metadata": {
      "needs_background": "light"
     },
     "output_type": "display_data"
    }
   ],
   "source": [
    "plot_regular_season(\"TOR\")"
   ]
  },
  {
   "cell_type": "code",
   "execution_count": 558,
   "metadata": {},
   "outputs": [],
   "source": [
    "    Index_label_r = regular_season[regular_season[\"Tm\"] == \"TOR\"].index\n",
    "    row_r = regular_season.index[Index_label_r].values\n",
    "    fg_r = (regular_season[\"FG%\"][row_r])\n",
    "    names_regular = [[\"FG%\"] *len(fg_r)*3, [\"2P FG%\"]*len(fg_r)*3, [\"3P FG%\"]*len(fg_r)*3]\n",
    "    fg2_r =(regular_season[\"2P FG%\"][row_r])\n",
    "    fg3_r = (regular_season[\"3P FG%\"][row_r])\n",
    "    values_regular = [fg_r, fg2_r, fg3_r]\n",
    "    "
   ]
  },
  {
   "cell_type": "code",
   "execution_count": 562,
   "metadata": {},
   "outputs": [
    {
     "data": {
      "text/plain": [
       "3"
      ]
     },
     "execution_count": 562,
     "metadata": {},
     "output_type": "execute_result"
    }
   ],
   "source": [
    "len(names_regular)\n"
   ]
  },
  {
   "cell_type": "code",
   "execution_count": 571,
   "metadata": {},
   "outputs": [
    {
     "name": "stdout",
     "output_type": "stream",
     "text": [
      "15\n",
      "15\n"
     ]
    },
    {
     "ename": "ValueError",
     "evalue": "Can only compare identically-labeled Series objects",
     "output_type": "error",
     "traceback": [
      "\u001b[0;31m---------------------------------------------------------------------------\u001b[0m",
      "\u001b[0;31mValueError\u001b[0m                                Traceback (most recent call last)",
      "\u001b[0;32m<ipython-input-571-588fbea28194>\u001b[0m in \u001b[0;36m<module>\u001b[0;34m\u001b[0m\n\u001b[1;32m     11\u001b[0m \u001b[0;34m\u001b[0m\u001b[0m\n\u001b[1;32m     12\u001b[0m \u001b[0;34m\u001b[0m\u001b[0m\n\u001b[0;32m---> 13\u001b[0;31m \u001b[0mIndex_label_p\u001b[0m \u001b[0;34m=\u001b[0m \u001b[0mpost_season\u001b[0m\u001b[0;34m[\u001b[0m\u001b[0mpost_season\u001b[0m\u001b[0;34m[\u001b[0m\u001b[0;34m\"Name\"\u001b[0m\u001b[0;34m]\u001b[0m \u001b[0;34m==\u001b[0m \u001b[0mregular_season\u001b[0m\u001b[0;34m[\u001b[0m\u001b[0;34m\"Player\"\u001b[0m\u001b[0;34m]\u001b[0m\u001b[0;34m]\u001b[0m\u001b[0;34m.\u001b[0m\u001b[0mindex\u001b[0m\u001b[0;34m\u001b[0m\u001b[0;34m\u001b[0m\u001b[0m\n\u001b[0m\u001b[1;32m     14\u001b[0m \u001b[0mrow_p\u001b[0m \u001b[0;34m=\u001b[0m \u001b[0mpost_season\u001b[0m\u001b[0;34m.\u001b[0m\u001b[0mindex\u001b[0m\u001b[0;34m[\u001b[0m\u001b[0mIndex_label_p\u001b[0m\u001b[0;34m]\u001b[0m\u001b[0;34m.\u001b[0m\u001b[0mvalues\u001b[0m\u001b[0;34m\u001b[0m\u001b[0;34m\u001b[0m\u001b[0m\n\u001b[1;32m     15\u001b[0m \u001b[0mfg_p\u001b[0m \u001b[0;34m=\u001b[0m \u001b[0;34m(\u001b[0m\u001b[0mpost_season\u001b[0m\u001b[0;34m[\u001b[0m\u001b[0;34m\"FG%\"\u001b[0m\u001b[0;34m]\u001b[0m\u001b[0;34m[\u001b[0m\u001b[0mrow_p\u001b[0m\u001b[0;34m]\u001b[0m\u001b[0;34m)\u001b[0m\u001b[0;34m\u001b[0m\u001b[0;34m\u001b[0m\u001b[0m\n",
      "\u001b[0;32m/usr/local/lib/python3.9/site-packages/pandas/core/ops/common.py\u001b[0m in \u001b[0;36mnew_method\u001b[0;34m(self, other)\u001b[0m\n\u001b[1;32m     63\u001b[0m         \u001b[0mother\u001b[0m \u001b[0;34m=\u001b[0m \u001b[0mitem_from_zerodim\u001b[0m\u001b[0;34m(\u001b[0m\u001b[0mother\u001b[0m\u001b[0;34m)\u001b[0m\u001b[0;34m\u001b[0m\u001b[0;34m\u001b[0m\u001b[0m\n\u001b[1;32m     64\u001b[0m \u001b[0;34m\u001b[0m\u001b[0m\n\u001b[0;32m---> 65\u001b[0;31m         \u001b[0;32mreturn\u001b[0m \u001b[0mmethod\u001b[0m\u001b[0;34m(\u001b[0m\u001b[0mself\u001b[0m\u001b[0;34m,\u001b[0m \u001b[0mother\u001b[0m\u001b[0;34m)\u001b[0m\u001b[0;34m\u001b[0m\u001b[0;34m\u001b[0m\u001b[0m\n\u001b[0m\u001b[1;32m     66\u001b[0m \u001b[0;34m\u001b[0m\u001b[0m\n\u001b[1;32m     67\u001b[0m     \u001b[0;32mreturn\u001b[0m \u001b[0mnew_method\u001b[0m\u001b[0;34m\u001b[0m\u001b[0;34m\u001b[0m\u001b[0m\n",
      "\u001b[0;32m/usr/local/lib/python3.9/site-packages/pandas/core/ops/__init__.py\u001b[0m in \u001b[0;36mwrapper\u001b[0;34m(self, other)\u001b[0m\n\u001b[1;32m    363\u001b[0m \u001b[0;34m\u001b[0m\u001b[0m\n\u001b[1;32m    364\u001b[0m         \u001b[0;32mif\u001b[0m \u001b[0misinstance\u001b[0m\u001b[0;34m(\u001b[0m\u001b[0mother\u001b[0m\u001b[0;34m,\u001b[0m \u001b[0mABCSeries\u001b[0m\u001b[0;34m)\u001b[0m \u001b[0;32mand\u001b[0m \u001b[0;32mnot\u001b[0m \u001b[0mself\u001b[0m\u001b[0;34m.\u001b[0m\u001b[0m_indexed_same\u001b[0m\u001b[0;34m(\u001b[0m\u001b[0mother\u001b[0m\u001b[0;34m)\u001b[0m\u001b[0;34m:\u001b[0m\u001b[0;34m\u001b[0m\u001b[0;34m\u001b[0m\u001b[0m\n\u001b[0;32m--> 365\u001b[0;31m             \u001b[0;32mraise\u001b[0m \u001b[0mValueError\u001b[0m\u001b[0;34m(\u001b[0m\u001b[0;34m\"Can only compare identically-labeled Series objects\"\u001b[0m\u001b[0;34m)\u001b[0m\u001b[0;34m\u001b[0m\u001b[0;34m\u001b[0m\u001b[0m\n\u001b[0m\u001b[1;32m    366\u001b[0m \u001b[0;34m\u001b[0m\u001b[0m\n\u001b[1;32m    367\u001b[0m         \u001b[0mlvalues\u001b[0m \u001b[0;34m=\u001b[0m \u001b[0mextract_array\u001b[0m\u001b[0;34m(\u001b[0m\u001b[0mself\u001b[0m\u001b[0;34m,\u001b[0m \u001b[0mextract_numpy\u001b[0m\u001b[0;34m=\u001b[0m\u001b[0;32mTrue\u001b[0m\u001b[0;34m)\u001b[0m\u001b[0;34m\u001b[0m\u001b[0;34m\u001b[0m\u001b[0m\n",
      "\u001b[0;31mValueError\u001b[0m: Can only compare identically-labeled Series objects"
     ]
    }
   ],
   "source": [
    "Index_label_r = regular_season[regular_season[\"Tm\"] == \"TOR\"].index\n",
    "row_r = regular_season.index[Index_label_r].values\n",
    "fg_r = (regular_season[\"FG%\"][row_r])\n",
    "fg2_r =(regular_season[\"2P FG%\"][row_r])\n",
    "fg3_r = (regular_season[\"3P FG%\"][row_r])\n",
    "\n",
    "values_regular = [fg_r, fg2_r, fg3_r]\n",
    "print(len(names_regular[0]))\n",
    "print(len(values_regular[0]))\n",
    "\n",
    "\n",
    "\n",
    "Index_label_p = post_season[post_season[\"Name\"] == regular_season[\"Player\"]].index\n",
    "row_p = post_season.index[Index_label_p].values\n",
    "fg_p = (post_season[\"FG%\"][row_p])\n",
    "fg2_p =(post_season[\"2P FG%\"][row_p])\n",
    "fg3_p = (post_season[\"3P FG%\"][row_p])\n",
    "names_regular = [fg_p, fg2_p, fg3_p]\n",
    "\n",
    "\n",
    "axes = plt.gca()\n",
    "plt.scatter(x = names_regular, y = values_regular, alpha=0.5, color=\"r\", label = \"Regular Season\")"
   ]
  },
  {
   "cell_type": "code",
   "execution_count": 551,
   "metadata": {},
   "outputs": [
    {
     "data": {
      "text/plain": [
       "['FG%FG%FG%FG%FG%FG%FG%FG%FG%FG%FG%FG%FG%FG%FG%FG%FG%FG%FG%FG%FG%FG%FG%FG%FG%FG%FG%FG%FG%FG%FG%FG%FG%FG%FG%FG%FG%FG%FG%FG%FG%FG%FG%FG%FG%',\n",
       " '2P FG%2P FG%2P FG%2P FG%2P FG%2P FG%2P FG%2P FG%2P FG%2P FG%2P FG%2P FG%2P FG%2P FG%2P FG%2P FG%2P FG%2P FG%2P FG%2P FG%2P FG%2P FG%2P FG%2P FG%2P FG%2P FG%2P FG%2P FG%2P FG%2P FG%2P FG%2P FG%2P FG%2P FG%2P FG%2P FG%2P FG%2P FG%2P FG%2P FG%2P FG%2P FG%2P FG%2P FG%2P FG%',\n",
       " '3P FG%3P FG%3P FG%3P FG%3P FG%3P FG%3P FG%3P FG%3P FG%3P FG%3P FG%3P FG%3P FG%3P FG%3P FG%3P FG%3P FG%3P FG%3P FG%3P FG%3P FG%3P FG%3P FG%3P FG%3P FG%3P FG%3P FG%3P FG%3P FG%3P FG%3P FG%3P FG%3P FG%3P FG%3P FG%3P FG%3P FG%3P FG%3P FG%3P FG%3P FG%3P FG%3P FG%3P FG%3P FG%']"
      ]
     },
     "execution_count": 551,
     "metadata": {},
     "output_type": "execute_result"
    }
   ],
   "source": [
    "names_regular\n"
   ]
  },
  {
   "cell_type": "code",
   "execution_count": 555,
   "metadata": {},
   "outputs": [
    {
     "data": {
      "text/plain": [
       "[1, 1, 1, 1]"
      ]
     },
     "execution_count": 555,
     "metadata": {},
     "output_type": "execute_result"
    }
   ],
   "source": [
    "[1]*4"
   ]
  },
  {
   "cell_type": "code",
   "execution_count": null,
   "metadata": {},
   "outputs": [],
   "source": []
  }
 ],
 "metadata": {
  "kernelspec": {
   "display_name": "Python 3",
   "language": "python",
   "name": "python3"
  },
  "language_info": {
   "codemirror_mode": {
    "name": "ipython",
    "version": 3
   },
   "file_extension": ".py",
   "mimetype": "text/x-python",
   "name": "python",
   "nbconvert_exporter": "python",
   "pygments_lexer": "ipython3",
   "version": "3.9.0"
  }
 },
 "nbformat": 4,
 "nbformat_minor": 4
}
