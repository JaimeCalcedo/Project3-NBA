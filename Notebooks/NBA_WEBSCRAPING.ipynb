{
 "cells": [
  {
   "cell_type": "code",
   "execution_count": 77,
   "metadata": {},
   "outputs": [],
   "source": [
    "###CAMBIO DE WEB PORQUE LA NBA ES CACA####"
   ]
  },
  {
   "cell_type": "code",
   "execution_count": 135,
   "metadata": {},
   "outputs": [],
   "source": [
    "import requests \n",
    "from bs4 import BeautifulSoup\n",
    "import pandas as pd"
   ]
  },
  {
   "cell_type": "code",
   "execution_count": 136,
   "metadata": {},
   "outputs": [],
   "source": [
    "url2 = \"https://www.basketball-reference.com/playoffs/NBA_2020_per_game.html\""
   ]
  },
  {
   "cell_type": "code",
   "execution_count": 137,
   "metadata": {},
   "outputs": [],
   "source": [
    "response2 = requests.get(url2)"
   ]
  },
  {
   "cell_type": "code",
   "execution_count": 138,
   "metadata": {},
   "outputs": [
    {
     "data": {
      "text/plain": [
       "200"
      ]
     },
     "execution_count": 138,
     "metadata": {},
     "output_type": "execute_result"
    }
   ],
   "source": [
    "response2.status_code"
   ]
  },
  {
   "cell_type": "code",
   "execution_count": 139,
   "metadata": {},
   "outputs": [
    {
     "name": "stdout",
     "output_type": "stream",
     "text": [
      "The content is not JSONeable\n"
     ]
    }
   ],
   "source": [
    "try:\n",
    "    response2.json()\n",
    "except Exception:\n",
    "    print(f\"The content is not JSONeable\")"
   ]
  },
  {
   "cell_type": "code",
   "execution_count": 140,
   "metadata": {},
   "outputs": [],
   "source": [
    "soup2 = BeautifulSoup(response2.content)"
   ]
  },
  {
   "cell_type": "code",
   "execution_count": 141,
   "metadata": {},
   "outputs": [],
   "source": [
    "fg3_pct = soup2.find_all(name=\"td\", attrs= {\"data-stat\": \"fg3_pct\"})"
   ]
  },
  {
   "cell_type": "code",
   "execution_count": 142,
   "metadata": {},
   "outputs": [
    {
     "data": {
      "text/plain": [
       "217"
      ]
     },
     "execution_count": 142,
     "metadata": {},
     "output_type": "execute_result"
    }
   ],
   "source": [
    "len(fg_pct)"
   ]
  },
  {
   "cell_type": "code",
   "execution_count": 143,
   "metadata": {},
   "outputs": [
    {
     "name": "stdout",
     "output_type": "stream",
     "text": [
      ".000\n"
     ]
    }
   ],
   "source": [
    "print(fg3_pct[0].text)"
   ]
  },
  {
   "cell_type": "code",
   "execution_count": 144,
   "metadata": {},
   "outputs": [
    {
     "name": "stdout",
     "output_type": "stream",
     "text": [
      "['.000', '.000', '.000', '', '.455', '.325', '.421', '.415', '.471', '', '', '.500', '.364', '', '.250', '.667', '.400', '', '.000', '.375', '.358', '.000', '.471', '.188', '', '.349', '.000', '.378', '', '.279', '', '.313', '.344', '.347', '.400', '', '.000', '.529', '.348', '.500', '', '.500', '.262', '.342', '.476', '.500', '.383', '.421', '.200', '.333', '.364', '.260', '.250', '.346', '.000', '', '.250', '.250', '', '.200', '.367', '.343', '.500', '.375', '.400', '.324', '.185', '.333', '.400', '', '.322', '.326', '.339', '.435', '.500', '.426', '', '.352', '.333', '.200', '.365', '.583', '.133', '.292', '.375', '.286', '.357', '.333', '', '.444', '.500', '.000', '.000', '.400', '.358', '.500', '.511', '.359', '.200', '.350', '.571', '.000', '.531', '.370', '', '1.000', '.400', '.393', '.429', '.444', '1.000', '.222', '.192', '.000', '.405', '.000', '.313', '.500', '1.000', '.329', '.500', '.429', '.394', '.396', '', '.319', '.333', '.000', '.000', '.600', '', '.395', '.371', '', '.200', '.000', '.667', '.389', '.354', '1.000', '.341', '.400', '.516', '.200', '.475', '.420', '.300', '.667', '.453', '.000', '1.000', '.200', '.400', '.414', '', '.000', '.279', '.273', '.455', '', '.217', '.364', '.347', '.250', '1.000', '.372', '', '.000', '', '.382', '.529', '.423', '.000', '.357', '.257', '.000', '.397', '.400', '.333', '', '.289', '.000', '.357', '.189', '.429', '.333', '.273', '.000', '.373', '.250', '.154', '.000', '.417', '.250', '.417', '.373', '.333', '.429', '.391', '', '', '.409', '.000', '.310', '.444', '.368', '.000', '', '.242', '1.000', '.588', '.235', '.435', '.000', '', '.500', '']\n"
     ]
    }
   ],
   "source": [
    "fg3_pct_playoff = []\n",
    "for i in fg3_pct:\n",
    "    fg3_pct_playoff.append(i.text)\n",
    "print(fg3_pct_playoff) "
   ]
  },
  {
   "cell_type": "code",
   "execution_count": 145,
   "metadata": {},
   "outputs": [],
   "source": [
    "fg2_pct = soup2.find_all(name=\"td\", attrs= {\"data-stat\": \"fg2_pct\"})"
   ]
  },
  {
   "cell_type": "code",
   "execution_count": 146,
   "metadata": {},
   "outputs": [
    {
     "data": {
      "text/plain": [
       "217"
      ]
     },
     "execution_count": 146,
     "metadata": {},
     "output_type": "execute_result"
    }
   ],
   "source": [
    "len(fg2_pct)"
   ]
  },
  {
   "cell_type": "code",
   "execution_count": 147,
   "metadata": {},
   "outputs": [
    {
     "name": "stdout",
     "output_type": "stream",
     "text": [
      ".600\n"
     ]
    }
   ],
   "source": [
    "print(fg2_pct[0].text)"
   ]
  },
  {
   "cell_type": "code",
   "execution_count": 148,
   "metadata": {},
   "outputs": [
    {
     "name": "stdout",
     "output_type": "stream",
     "text": [
      "['.600', '.608', '.566', '.583', '.000', '.636', '.408', '.489', '.345', '.000', '.200', '.222', '.706', '.500', '.455', '.500', '.167', '.222', '.000', '.415', '.560', '', '.524', '.394', '', '.512', '1.000', '.486', '.500', '.596', '', '.375', '.000', '.583', '', '.400', '.000', '.433', '.583', '.500', '', '.481', '.611', '.650', '.656', '.500', '.609', '.600', '.500', '.533', '.571', '.538', '.480', '.509', '.000', '', '.517', '.421', '1.000', '.000', '.545', '.364', '.000', '.409', '.700', '.476', '.541', '.464', '.455', '.649', '.500', '.500', '.364', '.656', '', '.571', '.600', '.512', '.631', '.597', '.395', '.455', '.467', '.500', '.483', '.467', '.564', '1.000', '.583', '.667', '.400', '.444', '.571', '.571', '.563', '.691', '.615', '.615', '.500', '.571', '.154', '.333', '.250', '.646', '', '.000', '.500', '.556', '.555', '.500', '.512', '.400', '.615', '.000', '.500', '.917', '.531', '.375', '', '.549', '.750', '.346', '.419', '.656', '.750', '.513', '.350', '.667', '.586', '.111', '', '.500', '.484', '.375', '.400', '.667', '.500', '.250', '.417', '.000', '.432', '.579', '.538', '.500', '.538', '.517', '.581', '.273', '.537', '.400', '.000', '.000', '.250', '.667', '', '.500', '.490', '.478', '.300', '', '.400', '.435', '.609', '1.000', '', '.565', '', '.500', '', '.587', '.522', '.558', '.500', '.357', '.385', '', '.650', '.493', '.588', '.625', '.484', '.333', '.529', '.481', '.167', '.493', '.250', '.500', '.471', '.615', '.626', '.333', '.889', '.667', '.286', '.476', '.500', '.633', '.413', '', '.000', '.567', '.500', '.569', '.515', '.510', '', '.500', '.477', '.522', '.556', '.526', '.458', '.767', '', '.625', '.564']\n"
     ]
    }
   ],
   "source": [
    "fg2_pct_playoff = []\n",
    "for i in fg2_pct:\n",
    "    fg2_pct_playoff.append(i.text)\n",
    "print(fg2_pct_playoff) "
   ]
  },
  {
   "cell_type": "code",
   "execution_count": 149,
   "metadata": {},
   "outputs": [],
   "source": [
    "fg_pct = soup2.find_all(name=\"td\", attrs = {\"data-stat\": \"fg_pct\"})"
   ]
  },
  {
   "cell_type": "code",
   "execution_count": 150,
   "metadata": {},
   "outputs": [
    {
     "name": "stdout",
     "output_type": "stream",
     "text": [
      ".333\n"
     ]
    }
   ],
   "source": [
    "print(fg_pct[0].text)"
   ]
  },
  {
   "cell_type": "code",
   "execution_count": 151,
   "metadata": {},
   "outputs": [
    {
     "data": {
      "text/plain": [
       "217"
      ]
     },
     "execution_count": 151,
     "metadata": {},
     "output_type": "execute_result"
    }
   ],
   "source": [
    "len(fg_pct)"
   ]
  },
  {
   "cell_type": "code",
   "execution_count": 152,
   "metadata": {},
   "outputs": [
    {
     "name": "stdout",
     "output_type": "stream",
     "text": [
      "['.333', '.596', '.564', '.583', '.417', '.559', '.412', '.455', '.391', '.000', '.200', '.419', '.513', '.500', '.388', '.556', '.273', '.222', '.000', '.400', '.476', '.000', '.508', '.327', '', '.488', '.500', '.418', '.500', '.425', '', '.333', '.333', '.464', '.400', '.400', '.000', '.484', '.429', '.500', '', '.495', '.423', '.403', '.585', '.500', '.571', '.483', '.364', '.451', '.500', '.355', '.424', '.444', '.000', '', '.459', '.343', '1.000', '.182', '.442', '.351', '.250', '.400', '.600', '.405', '.391', '.398', '.433', '.649', '.409', '.406', '.347', '.564', '.500', '.495', '.600', '.421', '.478', '.573', '.378', '.522', '.383', '.400', '.433', '.409', '.478', '.556', '.583', '.571', '.476', '.400', '.480', '.500', '.435', '.684', '.573', '.462', '.333', '.407', '.300', '.167', '.438', '.560', '', '.500', '.455', '.457', '.519', '.471', '.524', '.286', '.333', '.000', '.426', '.550', '.430', '.400', '1.000', '.489', '.625', '.370', '.406', '.535', '.750', '.419', '.339', '.400', '.567', '.286', '', '.421', '.444', '.375', '.267', '.625', '.600', '.375', '.394', '.333', '.398', '.477', '.529', '.250', '.505', '.449', '.496', '.357', '.505', '.182', '.500', '.143', '.333', '.500', '', '.471', '.391', '.439', '.406', '', '.250', '.393', '.474', '.500', '1.000', '.491', '', '.487', '', '.476', '.525', '.490', '.333', '.357', '.311', '.000', '.426', '.455', '.469', '.625', '.404', '.200', '.407', '.396', '.308', '.394', '.269', '.286', '.434', '.347', '.521', '.200', '.619', '.429', '.356', '.398', '.400', '.568', '.400', '', '.000', '.505', '.333', '.441', '.483', '.471', '.000', '.500', '.421', '.542', '.577', '.425', '.447', '.742', '', '.600', '.564']\n"
     ]
    }
   ],
   "source": [
    "fg_pct_playoff = []\n",
    "for i in fg_pct:\n",
    "    fg_pct_playoff.append(i.text)\n",
    "print(fg_pct_playoff) "
   ]
  },
  {
   "cell_type": "code",
   "execution_count": 153,
   "metadata": {},
   "outputs": [
    {
     "data": {
      "text/plain": [
       "217"
      ]
     },
     "execution_count": 153,
     "metadata": {},
     "output_type": "execute_result"
    }
   ],
   "source": [
    "len(fg_pct_playoff)"
   ]
  },
  {
   "cell_type": "code",
   "execution_count": 154,
   "metadata": {},
   "outputs": [],
   "source": [
    "names = soup2.find_all(name=\"td\", class_=\"left\", attrs = {\"data-stat\": \"player\"})"
   ]
  },
  {
   "cell_type": "code",
   "execution_count": 156,
   "metadata": {},
   "outputs": [
    {
     "name": "stdout",
     "output_type": "stream",
     "text": [
      "Jaylen Adams\n"
     ]
    }
   ],
   "source": [
    "print(names[0].text)"
   ]
  },
  {
   "cell_type": "code",
   "execution_count": 157,
   "metadata": {
    "scrolled": true
   },
   "outputs": [
    {
     "name": "stdout",
     "output_type": "stream",
     "text": [
      "['Jaylen Adams', 'Steven Adams', 'Bam Adebayo', 'Jarrett Allen', 'Justin Anderson', 'Giannis Antetokounmpo', 'Carmelo Anthony', 'OG Anunoby', 'D.J. Augustin', 'J.J. Barea', 'Keita Bates-Diop', 'Darius Bazley', 'Patrick Beverley', 'Khem Birch', 'Eric Bledsoe', 'Bol Bol', 'Chris Boucher', 'Tony Bradley', 'Jarrell Brantley', 'Malcolm Brogdon', 'Jaylen Brown', 'Sterling Brown', 'Trey Burke', 'Alec Burks', 'Deonte Burton', 'Jimmy Butler', 'Bruno Caboclo', 'Kentavious Caldwell-Pope', 'DeMarre Carroll', 'Alex Caruso', 'Tyson Chandler', 'Chris Chiozza', 'Gary Clark', 'Jordan Clarkson', 'Chris Clemons', 'Antonius Cleveland', 'Amir Coffey', 'Mike Conley', 'Pat Connaughton', 'Quinn Cook', 'Tyler Cook', 'Robert Covington', 'Torrey Craig', 'Jae Crowder', 'Seth Curry', 'Troy Daniels', 'Anthony Davis', 'Terence Davis', 'Hamidou Diallo', 'Donte DiVincenzo', 'Luka Dončić', 'Luguentz Dort', 'PJ Dozier', 'Goran Dragić', 'Jared Dudley', 'Carsen Edwards', 'Joel Embiid', 'James Ennis', 'Tacko Fall', 'Terrance Ferguson', 'Dorian Finney-Smith', 'Evan Fournier', 'Michael Frazier', 'Markelle Fultz', 'Wenyen Gabriel', 'Danilo Gallinari', 'Marc Gasol', 'Paul George', 'Shai Gilgeous-Alexander', 'Rudy Gobert', 'Eric Gordon', 'Jerami Grant', 'Danny Green', 'JaMychal Green', 'Javonte Green', 'Jeff Green', 'Donta Hall', 'Tim Hardaway Jr.', 'James Harden', 'Montrezl Harrell', 'Gary Harris', 'Joe Harris', 'Tobias Harris', 'Gordon Hayward', 'Tyler Herro', 'Mario Hezonja', 'George Hill', 'Solomon Hill', 'Jaylen Hoard', 'Aaron Holiday', 'Justin Holiday', 'Rondae Hollis-Jefferson', 'Al Horford', 'Talen Horton-Tucker', 'Danuel House', 'Dwight Howard', 'Serge Ibaka', 'Andre Iguodala', 'Ersan İlyasova', 'Joe Ingles', 'Wesley Iwundu', 'Justin Jackson', 'Reggie Jackson', 'LeBron James', 'Alize Johnson', 'B.J. Johnson', 'Stanley Johnson', 'Tyler Johnson', 'Nikola Jokić', 'Derrick Jones Jr.', 'Enes Kanter', 'Michael Kidd-Gilchrist', 'Maxi Kleber', 'Furkan Korkmaz', 'Kyle Korver', 'Rodions Kurucs', 'Kyle Kuzma', 'Romeo Langford', 'Vic Law', 'Kawhi Leonard', 'Meyers Leonard', 'Caris LeVert', 'Damian Lillard', 'Brook Lopez', 'Robin Lopez', 'Kyle Lowry', 'Timothé Luwawu-Cabarrot', 'Terance Mann', 'Boban Marjanović', 'Jeremiah Martin', 'Frank Mason III', 'Wesley Matthews', 'CJ McCollum', 'T.J. McConnell', 'Doug McDermott', 'JaVale McGee', 'Rodney McGruder', 'Ben McLemore', 'Khris Middleton', 'Malcolm Miller', 'Paul Millsap', 'Shake Milton', 'Donovan Mitchell', 'Juwan Morgan', 'Marcus Morris', 'Markieff Morris', 'Monte Morris', 'Emmanuel Mudiay', 'Jamal Murray', 'Džanan Musa', 'Mike Muscala', 'Abdel Nader', 'Raul Neto', 'Georges Niang', 'Joakim Noah', 'Nerlens Noel', 'Kendrick Nunn', 'Jusuf Nurkić', \"Royce O'Neale\", \"Kyle O'Quinn\", 'Semi Ojeleye', 'Victor Oladipo', 'Kelly Olynyk', 'Miye Oni', 'Patrick Patterson', 'Chris Paul', 'Norvel Pelle', 'Mason Plumlee', 'Vincent Poirier', 'Michael Porter Jr.', 'Kristaps Porziņģis', 'Norman Powell', 'Josh Reaves', 'Josh Richardson', 'Austin Rivers', 'Andre Roberson', 'Duncan Robinson', 'Rajon Rondo', 'Terrence Ross', 'JaKarr Sampson', 'Dennis Schröder', 'Mike Scott', 'Landry Shamet', 'Pascal Siakam', 'Anfernee Simons', 'Marcus Smart', 'J.R. Smith', 'Edmond Sumner', 'Jayson Tatum', 'Garrett Temple', 'Daniel Theis', 'Lance Thomas', 'Matt Thomas', 'Matisse Thybulle', 'Gary Trent Jr.', 'P.J. Tucker', 'Rayjon Tucker', 'Myles Turner', 'Fred VanVleet', 'Gabe Vincent', 'Noah Vonleh', 'Nikola Vučević', 'Dion Waiters', 'Kemba Walker', 'Brad Wanamaker', 'T.J. Warren', 'Tremont Waters', 'Paul Watson', 'Russell Westbrook', 'Hassan Whiteside', 'Grant Williams', 'Lou Williams', 'Marvin Williams', 'Robert Williams', 'Nigel Williams-Goss', 'Delon Wright', 'Ivica Zubac']\n"
     ]
    }
   ],
   "source": [
    "names_playoff = []\n",
    "for i in names:\n",
    "    names_playoff.append(i.text)\n",
    "print(names_playoff)    "
   ]
  },
  {
   "cell_type": "code",
   "execution_count": 158,
   "metadata": {},
   "outputs": [
    {
     "data": {
      "text/plain": [
       "217"
      ]
     },
     "execution_count": 158,
     "metadata": {},
     "output_type": "execute_result"
    }
   ],
   "source": [
    "len(names_playoff)"
   ]
  },
  {
   "cell_type": "code",
   "execution_count": 161,
   "metadata": {},
   "outputs": [],
   "source": [
    "ft_pct = soup2.find_all(name=\"td\", attrs = {\"data-stat\": \"ft_pct\"})"
   ]
  },
  {
   "cell_type": "code",
   "execution_count": 165,
   "metadata": {},
   "outputs": [
    {
     "name": "stdout",
     "output_type": "stream",
     "text": [
      ".450\n"
     ]
    }
   ],
   "source": [
    "print(ft_pct[1].text)"
   ]
  },
  {
   "cell_type": "code",
   "execution_count": 166,
   "metadata": {},
   "outputs": [
    {
     "name": "stdout",
     "output_type": "stream",
     "text": [
      "['', '.450', '.783', '.813', '1.000', '.580', '.857', '.643', '.957', '1.000', '.500', '.900', '.500', '.909', '.808', '.875', '.000', '.714', '.500', '.893', '.841', '', '.600', '.778', '', '.859', '', '.815', '', '.800', '.000', '.500', '.800', '1.000', '.500', '', '1.000', '.864', '1.000', '1.000', '', '.857', '.692', '.761', '1.000', '.500', '.832', '1.000', '.571', '.650', '.656', '.533', '.571', '.803', '', '', '.814', '.778', '.500', '', '.800', '.706', '', '.857', '.500', '.967', '.733', '.909', '.957', '.524', '.875', '.889', '.667', '.778', '', '.824', '.250', '.727', '.845', '.603', '.773', '.500', '.789', '.875', '.870', '.750', '.808', '', '', '.600', '.333', '.750', '.571', '', '.769', '.556', '1.000', '.714', '1.000', '1.000', '.625', '.500', '', '.720', '', '', '1.000', '1.000', '.835', '.400', '.500', '.667', '.750', '.600', '1.000', '.000', '.784', '.500', '', '.862', '1.000', '.720', '.970', '.750', '', '.800', '.917', '', '.778', '1.000', '', '.700', '.682', '.500', '', '.500', '', '', '.826', '', '.796', '.857', '.948', '.333', '.929', '.778', '.824', '.500', '.897', '.714', '', '.500', '', '1.000', '', '.500', '1.000', '.783', '.500', '', '1.000', '.938', '.821', '', '', '.885', '', '.667', '', '.743', '.870', '.793', '1.000', '.944', '.769', '', '.868', '.684', '.857', '', '.800', '1.000', '.714', '.717', '.833', '.875', '', '1.000', '.813', '.833', '.788', '.500', '', '', '.857', '', '', '.438', '.840', '', '', '.909', '1.000', '.852', '.875', '1.000', '', '', '.531', '.500', '.700', '.811', '1.000', '.333', '', '.600', '.811']\n"
     ]
    }
   ],
   "source": [
    "ft_pct_playoff = []\n",
    "for i in ft_pct:\n",
    "    ft_pct_playoff.append(i.text)\n",
    "print(ft_pct_playoff) "
   ]
  },
  {
   "cell_type": "code",
   "execution_count": 167,
   "metadata": {},
   "outputs": [
    {
     "data": {
      "text/plain": [
       "217"
      ]
     },
     "execution_count": 167,
     "metadata": {},
     "output_type": "execute_result"
    }
   ],
   "source": [
    "len(ft_pct_playoff)"
   ]
  },
  {
   "cell_type": "code",
   "execution_count": 193,
   "metadata": {},
   "outputs": [],
   "source": [
    "playoffs = pd.DataFrame(list(zip(names_playoff, fg_pct_playoff, fg2_pct_playoff, fg3_pct_playoff)), columns =[\"Name\", \"FG%\", \"2P FG%\", \"3P FG%\"])"
   ]
  },
  {
   "cell_type": "code",
   "execution_count": 194,
   "metadata": {},
   "outputs": [
    {
     "data": {
      "text/html": [
       "<div>\n",
       "<style scoped>\n",
       "    .dataframe tbody tr th:only-of-type {\n",
       "        vertical-align: middle;\n",
       "    }\n",
       "\n",
       "    .dataframe tbody tr th {\n",
       "        vertical-align: top;\n",
       "    }\n",
       "\n",
       "    .dataframe thead th {\n",
       "        text-align: right;\n",
       "    }\n",
       "</style>\n",
       "<table border=\"1\" class=\"dataframe\">\n",
       "  <thead>\n",
       "    <tr style=\"text-align: right;\">\n",
       "      <th></th>\n",
       "      <th>Name</th>\n",
       "      <th>FG%</th>\n",
       "      <th>2P FG%</th>\n",
       "      <th>3P FG%</th>\n",
       "    </tr>\n",
       "  </thead>\n",
       "  <tbody>\n",
       "    <tr>\n",
       "      <th>70</th>\n",
       "      <td>Eric Gordon</td>\n",
       "      <td>.409</td>\n",
       "      <td>.500</td>\n",
       "      <td>.322</td>\n",
       "    </tr>\n",
       "    <tr>\n",
       "      <th>71</th>\n",
       "      <td>Jerami Grant</td>\n",
       "      <td>.406</td>\n",
       "      <td>.500</td>\n",
       "      <td>.326</td>\n",
       "    </tr>\n",
       "    <tr>\n",
       "      <th>72</th>\n",
       "      <td>Danny Green</td>\n",
       "      <td>.347</td>\n",
       "      <td>.364</td>\n",
       "      <td>.339</td>\n",
       "    </tr>\n",
       "    <tr>\n",
       "      <th>73</th>\n",
       "      <td>JaMychal Green</td>\n",
       "      <td>.564</td>\n",
       "      <td>.656</td>\n",
       "      <td>.435</td>\n",
       "    </tr>\n",
       "    <tr>\n",
       "      <th>74</th>\n",
       "      <td>Javonte Green</td>\n",
       "      <td>.500</td>\n",
       "      <td></td>\n",
       "      <td>.500</td>\n",
       "    </tr>\n",
       "    <tr>\n",
       "      <th>75</th>\n",
       "      <td>Jeff Green</td>\n",
       "      <td>.495</td>\n",
       "      <td>.571</td>\n",
       "      <td>.426</td>\n",
       "    </tr>\n",
       "    <tr>\n",
       "      <th>76</th>\n",
       "      <td>Donta Hall</td>\n",
       "      <td>.600</td>\n",
       "      <td>.600</td>\n",
       "      <td></td>\n",
       "    </tr>\n",
       "    <tr>\n",
       "      <th>77</th>\n",
       "      <td>Tim Hardaway Jr.</td>\n",
       "      <td>.421</td>\n",
       "      <td>.512</td>\n",
       "      <td>.352</td>\n",
       "    </tr>\n",
       "    <tr>\n",
       "      <th>78</th>\n",
       "      <td>James Harden</td>\n",
       "      <td>.478</td>\n",
       "      <td>.631</td>\n",
       "      <td>.333</td>\n",
       "    </tr>\n",
       "    <tr>\n",
       "      <th>79</th>\n",
       "      <td>Montrezl Harrell</td>\n",
       "      <td>.573</td>\n",
       "      <td>.597</td>\n",
       "      <td>.200</td>\n",
       "    </tr>\n",
       "    <tr>\n",
       "      <th>80</th>\n",
       "      <td>Gary Harris</td>\n",
       "      <td>.378</td>\n",
       "      <td>.395</td>\n",
       "      <td>.365</td>\n",
       "    </tr>\n",
       "    <tr>\n",
       "      <th>81</th>\n",
       "      <td>Joe Harris</td>\n",
       "      <td>.522</td>\n",
       "      <td>.455</td>\n",
       "      <td>.583</td>\n",
       "    </tr>\n",
       "    <tr>\n",
       "      <th>82</th>\n",
       "      <td>Tobias Harris</td>\n",
       "      <td>.383</td>\n",
       "      <td>.467</td>\n",
       "      <td>.133</td>\n",
       "    </tr>\n",
       "    <tr>\n",
       "      <th>83</th>\n",
       "      <td>Gordon Hayward</td>\n",
       "      <td>.400</td>\n",
       "      <td>.500</td>\n",
       "      <td>.292</td>\n",
       "    </tr>\n",
       "    <tr>\n",
       "      <th>84</th>\n",
       "      <td>Tyler Herro</td>\n",
       "      <td>.433</td>\n",
       "      <td>.483</td>\n",
       "      <td>.375</td>\n",
       "    </tr>\n",
       "    <tr>\n",
       "      <th>85</th>\n",
       "      <td>Mario Hezonja</td>\n",
       "      <td>.409</td>\n",
       "      <td>.467</td>\n",
       "      <td>.286</td>\n",
       "    </tr>\n",
       "    <tr>\n",
       "      <th>86</th>\n",
       "      <td>George Hill</td>\n",
       "      <td>.478</td>\n",
       "      <td>.564</td>\n",
       "      <td>.357</td>\n",
       "    </tr>\n",
       "    <tr>\n",
       "      <th>87</th>\n",
       "      <td>Solomon Hill</td>\n",
       "      <td>.556</td>\n",
       "      <td>1.000</td>\n",
       "      <td>.333</td>\n",
       "    </tr>\n",
       "    <tr>\n",
       "      <th>88</th>\n",
       "      <td>Jaylen Hoard</td>\n",
       "      <td>.583</td>\n",
       "      <td>.583</td>\n",
       "      <td></td>\n",
       "    </tr>\n",
       "    <tr>\n",
       "      <th>89</th>\n",
       "      <td>Aaron Holiday</td>\n",
       "      <td>.571</td>\n",
       "      <td>.667</td>\n",
       "      <td>.444</td>\n",
       "    </tr>\n",
       "    <tr>\n",
       "      <th>90</th>\n",
       "      <td>Justin Holiday</td>\n",
       "      <td>.476</td>\n",
       "      <td>.400</td>\n",
       "      <td>.500</td>\n",
       "    </tr>\n",
       "    <tr>\n",
       "      <th>91</th>\n",
       "      <td>Rondae Hollis-Jefferson</td>\n",
       "      <td>.400</td>\n",
       "      <td>.444</td>\n",
       "      <td>.000</td>\n",
       "    </tr>\n",
       "    <tr>\n",
       "      <th>92</th>\n",
       "      <td>Al Horford</td>\n",
       "      <td>.480</td>\n",
       "      <td>.571</td>\n",
       "      <td>.000</td>\n",
       "    </tr>\n",
       "    <tr>\n",
       "      <th>93</th>\n",
       "      <td>Talen Horton-Tucker</td>\n",
       "      <td>.500</td>\n",
       "      <td>.571</td>\n",
       "      <td>.400</td>\n",
       "    </tr>\n",
       "    <tr>\n",
       "      <th>94</th>\n",
       "      <td>Danuel House</td>\n",
       "      <td>.435</td>\n",
       "      <td>.563</td>\n",
       "      <td>.358</td>\n",
       "    </tr>\n",
       "    <tr>\n",
       "      <th>95</th>\n",
       "      <td>Dwight Howard</td>\n",
       "      <td>.684</td>\n",
       "      <td>.691</td>\n",
       "      <td>.500</td>\n",
       "    </tr>\n",
       "    <tr>\n",
       "      <th>96</th>\n",
       "      <td>Serge Ibaka</td>\n",
       "      <td>.573</td>\n",
       "      <td>.615</td>\n",
       "      <td>.511</td>\n",
       "    </tr>\n",
       "    <tr>\n",
       "      <th>97</th>\n",
       "      <td>Andre Iguodala</td>\n",
       "      <td>.462</td>\n",
       "      <td>.615</td>\n",
       "      <td>.359</td>\n",
       "    </tr>\n",
       "    <tr>\n",
       "      <th>98</th>\n",
       "      <td>Ersan İlyasova</td>\n",
       "      <td>.333</td>\n",
       "      <td>.500</td>\n",
       "      <td>.200</td>\n",
       "    </tr>\n",
       "    <tr>\n",
       "      <th>99</th>\n",
       "      <td>Joe Ingles</td>\n",
       "      <td>.407</td>\n",
       "      <td>.571</td>\n",
       "      <td>.350</td>\n",
       "    </tr>\n",
       "    <tr>\n",
       "      <th>100</th>\n",
       "      <td>Wesley Iwundu</td>\n",
       "      <td>.300</td>\n",
       "      <td>.154</td>\n",
       "      <td>.571</td>\n",
       "    </tr>\n",
       "    <tr>\n",
       "      <th>101</th>\n",
       "      <td>Justin Jackson</td>\n",
       "      <td>.167</td>\n",
       "      <td>.333</td>\n",
       "      <td>.000</td>\n",
       "    </tr>\n",
       "    <tr>\n",
       "      <th>102</th>\n",
       "      <td>Reggie Jackson</td>\n",
       "      <td>.438</td>\n",
       "      <td>.250</td>\n",
       "      <td>.531</td>\n",
       "    </tr>\n",
       "    <tr>\n",
       "      <th>103</th>\n",
       "      <td>LeBron James</td>\n",
       "      <td>.560</td>\n",
       "      <td>.646</td>\n",
       "      <td>.370</td>\n",
       "    </tr>\n",
       "    <tr>\n",
       "      <th>104</th>\n",
       "      <td>Alize Johnson</td>\n",
       "      <td></td>\n",
       "      <td></td>\n",
       "      <td></td>\n",
       "    </tr>\n",
       "    <tr>\n",
       "      <th>105</th>\n",
       "      <td>B.J. Johnson</td>\n",
       "      <td>.500</td>\n",
       "      <td>.000</td>\n",
       "      <td>1.000</td>\n",
       "    </tr>\n",
       "    <tr>\n",
       "      <th>106</th>\n",
       "      <td>Stanley Johnson</td>\n",
       "      <td>.455</td>\n",
       "      <td>.500</td>\n",
       "      <td>.400</td>\n",
       "    </tr>\n",
       "    <tr>\n",
       "      <th>107</th>\n",
       "      <td>Tyler Johnson</td>\n",
       "      <td>.457</td>\n",
       "      <td>.556</td>\n",
       "      <td>.393</td>\n",
       "    </tr>\n",
       "    <tr>\n",
       "      <th>108</th>\n",
       "      <td>Nikola Jokić</td>\n",
       "      <td>.519</td>\n",
       "      <td>.555</td>\n",
       "      <td>.429</td>\n",
       "    </tr>\n",
       "    <tr>\n",
       "      <th>109</th>\n",
       "      <td>Derrick Jones Jr.</td>\n",
       "      <td>.471</td>\n",
       "      <td>.500</td>\n",
       "      <td>.444</td>\n",
       "    </tr>\n",
       "    <tr>\n",
       "      <th>110</th>\n",
       "      <td>Enes Kanter</td>\n",
       "      <td>.524</td>\n",
       "      <td>.512</td>\n",
       "      <td>1.000</td>\n",
       "    </tr>\n",
       "    <tr>\n",
       "      <th>111</th>\n",
       "      <td>Michael Kidd-Gilchrist</td>\n",
       "      <td>.286</td>\n",
       "      <td>.400</td>\n",
       "      <td>.222</td>\n",
       "    </tr>\n",
       "    <tr>\n",
       "      <th>112</th>\n",
       "      <td>Maxi Kleber</td>\n",
       "      <td>.333</td>\n",
       "      <td>.615</td>\n",
       "      <td>.192</td>\n",
       "    </tr>\n",
       "    <tr>\n",
       "      <th>113</th>\n",
       "      <td>Furkan Korkmaz</td>\n",
       "      <td>.000</td>\n",
       "      <td>.000</td>\n",
       "      <td>.000</td>\n",
       "    </tr>\n",
       "    <tr>\n",
       "      <th>114</th>\n",
       "      <td>Kyle Korver</td>\n",
       "      <td>.426</td>\n",
       "      <td>.500</td>\n",
       "      <td>.405</td>\n",
       "    </tr>\n",
       "    <tr>\n",
       "      <th>115</th>\n",
       "      <td>Rodions Kurucs</td>\n",
       "      <td>.550</td>\n",
       "      <td>.917</td>\n",
       "      <td>.000</td>\n",
       "    </tr>\n",
       "    <tr>\n",
       "      <th>116</th>\n",
       "      <td>Kyle Kuzma</td>\n",
       "      <td>.430</td>\n",
       "      <td>.531</td>\n",
       "      <td>.313</td>\n",
       "    </tr>\n",
       "    <tr>\n",
       "      <th>117</th>\n",
       "      <td>Romeo Langford</td>\n",
       "      <td>.400</td>\n",
       "      <td>.375</td>\n",
       "      <td>.500</td>\n",
       "    </tr>\n",
       "    <tr>\n",
       "      <th>118</th>\n",
       "      <td>Vic Law</td>\n",
       "      <td>1.000</td>\n",
       "      <td></td>\n",
       "      <td>1.000</td>\n",
       "    </tr>\n",
       "    <tr>\n",
       "      <th>119</th>\n",
       "      <td>Kawhi Leonard</td>\n",
       "      <td>.489</td>\n",
       "      <td>.549</td>\n",
       "      <td>.329</td>\n",
       "    </tr>\n",
       "    <tr>\n",
       "      <th>120</th>\n",
       "      <td>Meyers Leonard</td>\n",
       "      <td>.625</td>\n",
       "      <td>.750</td>\n",
       "      <td>.500</td>\n",
       "    </tr>\n",
       "    <tr>\n",
       "      <th>121</th>\n",
       "      <td>Caris LeVert</td>\n",
       "      <td>.370</td>\n",
       "      <td>.346</td>\n",
       "      <td>.429</td>\n",
       "    </tr>\n",
       "    <tr>\n",
       "      <th>122</th>\n",
       "      <td>Damian Lillard</td>\n",
       "      <td>.406</td>\n",
       "      <td>.419</td>\n",
       "      <td>.394</td>\n",
       "    </tr>\n",
       "    <tr>\n",
       "      <th>123</th>\n",
       "      <td>Brook Lopez</td>\n",
       "      <td>.535</td>\n",
       "      <td>.656</td>\n",
       "      <td>.396</td>\n",
       "    </tr>\n",
       "    <tr>\n",
       "      <th>124</th>\n",
       "      <td>Robin Lopez</td>\n",
       "      <td>.750</td>\n",
       "      <td>.750</td>\n",
       "      <td></td>\n",
       "    </tr>\n",
       "    <tr>\n",
       "      <th>125</th>\n",
       "      <td>Kyle Lowry</td>\n",
       "      <td>.419</td>\n",
       "      <td>.513</td>\n",
       "      <td>.319</td>\n",
       "    </tr>\n",
       "    <tr>\n",
       "      <th>126</th>\n",
       "      <td>Timothé Luwawu-Cabarrot</td>\n",
       "      <td>.339</td>\n",
       "      <td>.350</td>\n",
       "      <td>.333</td>\n",
       "    </tr>\n",
       "    <tr>\n",
       "      <th>127</th>\n",
       "      <td>Terance Mann</td>\n",
       "      <td>.400</td>\n",
       "      <td>.667</td>\n",
       "      <td>.000</td>\n",
       "    </tr>\n",
       "    <tr>\n",
       "      <th>128</th>\n",
       "      <td>Boban Marjanović</td>\n",
       "      <td>.567</td>\n",
       "      <td>.586</td>\n",
       "      <td>.000</td>\n",
       "    </tr>\n",
       "    <tr>\n",
       "      <th>129</th>\n",
       "      <td>Jeremiah Martin</td>\n",
       "      <td>.286</td>\n",
       "      <td>.111</td>\n",
       "      <td>.600</td>\n",
       "    </tr>\n",
       "  </tbody>\n",
       "</table>\n",
       "</div>"
      ],
      "text/plain": [
       "                        Name    FG% 2P FG% 3P FG%\n",
       "70               Eric Gordon   .409   .500   .322\n",
       "71              Jerami Grant   .406   .500   .326\n",
       "72               Danny Green   .347   .364   .339\n",
       "73            JaMychal Green   .564   .656   .435\n",
       "74             Javonte Green   .500          .500\n",
       "75                Jeff Green   .495   .571   .426\n",
       "76                Donta Hall   .600   .600       \n",
       "77          Tim Hardaway Jr.   .421   .512   .352\n",
       "78              James Harden   .478   .631   .333\n",
       "79          Montrezl Harrell   .573   .597   .200\n",
       "80               Gary Harris   .378   .395   .365\n",
       "81                Joe Harris   .522   .455   .583\n",
       "82             Tobias Harris   .383   .467   .133\n",
       "83            Gordon Hayward   .400   .500   .292\n",
       "84               Tyler Herro   .433   .483   .375\n",
       "85             Mario Hezonja   .409   .467   .286\n",
       "86               George Hill   .478   .564   .357\n",
       "87              Solomon Hill   .556  1.000   .333\n",
       "88              Jaylen Hoard   .583   .583       \n",
       "89             Aaron Holiday   .571   .667   .444\n",
       "90            Justin Holiday   .476   .400   .500\n",
       "91   Rondae Hollis-Jefferson   .400   .444   .000\n",
       "92                Al Horford   .480   .571   .000\n",
       "93       Talen Horton-Tucker   .500   .571   .400\n",
       "94              Danuel House   .435   .563   .358\n",
       "95             Dwight Howard   .684   .691   .500\n",
       "96               Serge Ibaka   .573   .615   .511\n",
       "97            Andre Iguodala   .462   .615   .359\n",
       "98            Ersan İlyasova   .333   .500   .200\n",
       "99                Joe Ingles   .407   .571   .350\n",
       "100            Wesley Iwundu   .300   .154   .571\n",
       "101           Justin Jackson   .167   .333   .000\n",
       "102           Reggie Jackson   .438   .250   .531\n",
       "103             LeBron James   .560   .646   .370\n",
       "104            Alize Johnson                     \n",
       "105             B.J. Johnson   .500   .000  1.000\n",
       "106          Stanley Johnson   .455   .500   .400\n",
       "107            Tyler Johnson   .457   .556   .393\n",
       "108             Nikola Jokić   .519   .555   .429\n",
       "109        Derrick Jones Jr.   .471   .500   .444\n",
       "110              Enes Kanter   .524   .512  1.000\n",
       "111   Michael Kidd-Gilchrist   .286   .400   .222\n",
       "112              Maxi Kleber   .333   .615   .192\n",
       "113           Furkan Korkmaz   .000   .000   .000\n",
       "114              Kyle Korver   .426   .500   .405\n",
       "115           Rodions Kurucs   .550   .917   .000\n",
       "116               Kyle Kuzma   .430   .531   .313\n",
       "117           Romeo Langford   .400   .375   .500\n",
       "118                  Vic Law  1.000         1.000\n",
       "119            Kawhi Leonard   .489   .549   .329\n",
       "120           Meyers Leonard   .625   .750   .500\n",
       "121             Caris LeVert   .370   .346   .429\n",
       "122           Damian Lillard   .406   .419   .394\n",
       "123              Brook Lopez   .535   .656   .396\n",
       "124              Robin Lopez   .750   .750       \n",
       "125               Kyle Lowry   .419   .513   .319\n",
       "126  Timothé Luwawu-Cabarrot   .339   .350   .333\n",
       "127             Terance Mann   .400   .667   .000\n",
       "128         Boban Marjanović   .567   .586   .000\n",
       "129          Jeremiah Martin   .286   .111   .600"
      ]
     },
     "execution_count": 194,
     "metadata": {},
     "output_type": "execute_result"
    }
   ],
   "source": [
    "playoffs[70:130]"
   ]
  },
  {
   "cell_type": "code",
   "execution_count": 195,
   "metadata": {},
   "outputs": [],
   "source": [
    "final_data_playoffs = playoffs"
   ]
  },
  {
   "cell_type": "code",
   "execution_count": 196,
   "metadata": {},
   "outputs": [],
   "source": [
    "final_data_playoffs.to_csv(r\"final_data_playoffs.csv\")"
   ]
  },
  {
   "cell_type": "code",
   "execution_count": 197,
   "metadata": {},
   "outputs": [],
   "source": [
    "!mv final_data_playoffs.csv ../Data/nba_2020_shooting_playoffs.csv"
   ]
  },
  {
   "cell_type": "code",
   "execution_count": null,
   "metadata": {},
   "outputs": [],
   "source": []
  }
 ],
 "metadata": {
  "kernelspec": {
   "display_name": "Python 3",
   "language": "python",
   "name": "python3"
  },
  "language_info": {
   "codemirror_mode": {
    "name": "ipython",
    "version": 3
   },
   "file_extension": ".py",
   "mimetype": "text/x-python",
   "name": "python",
   "nbconvert_exporter": "python",
   "pygments_lexer": "ipython3",
   "version": "3.9.0"
  }
 },
 "nbformat": 4,
 "nbformat_minor": 4
}
